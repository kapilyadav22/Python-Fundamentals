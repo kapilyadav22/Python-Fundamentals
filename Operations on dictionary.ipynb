{
 "cells": [
  {
   "cell_type": "markdown",
   "id": "dcf53302",
   "metadata": {},
   "source": [
    "# Copy()\n",
    "copy() method return the copy of the dictionary"
   ]
  },
  {
   "cell_type": "code",
   "execution_count": 8,
   "id": "b7f668de",
   "metadata": {},
   "outputs": [
    {
     "data": {
      "text/plain": [
       "{'Name': 'Ram', 'City': 'delhi', 'Age': 25}"
      ]
     },
     "execution_count": 8,
     "metadata": {},
     "output_type": "execute_result"
    }
   ],
   "source": [
    "#using copy method\n",
    "dict1= {'Name': 'Ram', 'City':'delhi', 'Age' : 25}\n",
    "dict2=dict1.copy()\n",
    "dict2"
   ]
  },
  {
   "cell_type": "markdown",
   "id": "bd8f5342",
   "metadata": {},
   "source": [
    "# items\n",
    "items() method returns a list containing a tuple for each key-value pair."
   ]
  },
  {
   "cell_type": "code",
   "execution_count": 9,
   "id": "bfe85854",
   "metadata": {},
   "outputs": [
    {
     "data": {
      "text/plain": [
       "dict_items([('Name', 'Ram'), ('City', 'delhi'), ('Age', 25)])"
      ]
     },
     "execution_count": 9,
     "metadata": {},
     "output_type": "execute_result"
    }
   ],
   "source": [
    "#using items() method\n",
    "dict1.items()\n"
   ]
  },
  {
   "cell_type": "markdown",
   "id": "70281e26",
   "metadata": {},
   "source": [
    "# Keys()\n",
    "Keys() method which returns the list containing the dictionary keys.\n"
   ]
  },
  {
   "cell_type": "code",
   "execution_count": 10,
   "id": "86e5f005",
   "metadata": {},
   "outputs": [
    {
     "data": {
      "text/plain": [
       "dict_keys(['Name', 'City', 'Age'])"
      ]
     },
     "execution_count": 10,
     "metadata": {},
     "output_type": "execute_result"
    }
   ],
   "source": [
    "#using keys() method\n",
    "dict1.keys()"
   ]
  },
  {
   "cell_type": "markdown",
   "id": "8d9101ce",
   "metadata": {},
   "source": [
    "# pop()\n",
    "pop() methods removes the element with the specified key\n"
   ]
  },
  {
   "cell_type": "code",
   "execution_count": 12,
   "id": "8a537814",
   "metadata": {},
   "outputs": [
    {
     "data": {
      "text/plain": [
       "{'Name': 'Ram', 'City': 'delhi'}"
      ]
     },
     "execution_count": 12,
     "metadata": {},
     "output_type": "execute_result"
    }
   ],
   "source": [
    "#sing pop() method\n",
    "dict1.pop('Age')\n",
    "dict1"
   ]
  },
  {
   "cell_type": "markdown",
   "id": "1758faa6",
   "metadata": {},
   "source": [
    "# popitem()\n",
    "popitem() method removes the last inserted key-value pair. "
   ]
  },
  {
   "cell_type": "code",
   "execution_count": 14,
   "id": "4ba47919",
   "metadata": {},
   "outputs": [
    {
     "data": {
      "text/plain": [
       "('City', 'delhi')"
      ]
     },
     "execution_count": 14,
     "metadata": {},
     "output_type": "execute_result"
    }
   ],
   "source": [
    "#using popitem() method\n",
    "dict1.popitem()"
   ]
  },
  {
   "cell_type": "code",
   "execution_count": 15,
   "id": "68e6b650",
   "metadata": {},
   "outputs": [
    {
     "data": {
      "text/plain": [
       "{'Name': 'Ram'}"
      ]
     },
     "execution_count": 15,
     "metadata": {},
     "output_type": "execute_result"
    }
   ],
   "source": [
    "dict1"
   ]
  },
  {
   "cell_type": "markdown",
   "id": "452775e4",
   "metadata": {},
   "source": [
    "# update()\n",
    "update() method update the dictionary with the specified key-value pair."
   ]
  },
  {
   "cell_type": "code",
   "execution_count": 16,
   "id": "925104ed",
   "metadata": {},
   "outputs": [],
   "source": [
    "#using update() method\n",
    "dict1.update({'address': 'L-Ist, H no-1691'})"
   ]
  },
  {
   "cell_type": "code",
   "execution_count": 17,
   "id": "04a7093c",
   "metadata": {},
   "outputs": [
    {
     "data": {
      "text/plain": [
       "{'Name': 'Ram', 'address': 'L-Ist, H no-1691'}"
      ]
     },
     "execution_count": 17,
     "metadata": {},
     "output_type": "execute_result"
    }
   ],
   "source": [
    "dict1"
   ]
  },
  {
   "cell_type": "markdown",
   "id": "63d250f2",
   "metadata": {},
   "source": [
    "# clear()\n",
    "clear method removes all the elements from the dictionary"
   ]
  },
  {
   "cell_type": "code",
   "execution_count": 18,
   "id": "d81d1666",
   "metadata": {},
   "outputs": [
    {
     "data": {
      "text/plain": [
       "{}"
      ]
     },
     "execution_count": 18,
     "metadata": {},
     "output_type": "execute_result"
    }
   ],
   "source": [
    "#using clear() method\n",
    "dict1.clear()\n",
    "dict1"
   ]
  },
  {
   "cell_type": "markdown",
   "id": "2596c1b9",
   "metadata": {},
   "source": [
    "# values()\n",
    "values method returns a list of all the values in the dictionary"
   ]
  },
  {
   "cell_type": "code",
   "execution_count": 19,
   "id": "901b0887",
   "metadata": {},
   "outputs": [
    {
     "data": {
      "text/plain": [
       "dict_values(['Ram', 'Shyam', 'kapil'])"
      ]
     },
     "execution_count": 19,
     "metadata": {},
     "output_type": "execute_result"
    }
   ],
   "source": [
    "#using values() method\n",
    "dict1={1:\"Ram\", 2:\"Shyam\", 3:\"kapil\"}\n",
    "dict1.values()"
   ]
  },
  {
   "cell_type": "code",
   "execution_count": null,
   "id": "10b098fe",
   "metadata": {},
   "outputs": [],
   "source": []
  }
 ],
 "metadata": {
  "kernelspec": {
   "display_name": "Python 3",
   "language": "python",
   "name": "python3"
  },
  "language_info": {
   "codemirror_mode": {
    "name": "ipython",
    "version": 3
   },
   "file_extension": ".py",
   "mimetype": "text/x-python",
   "name": "python",
   "nbconvert_exporter": "python",
   "pygments_lexer": "ipython3",
   "version": "3.6.8"
  }
 },
 "nbformat": 4,
 "nbformat_minor": 5
}
