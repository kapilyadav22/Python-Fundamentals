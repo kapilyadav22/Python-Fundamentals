{
 "cells": [
  {
   "cell_type": "markdown",
   "id": "311bffca",
   "metadata": {},
   "source": [
    " Now, Stacks and Queues are some of the earliest data structures.\n",
    "Defined stacks and Queues are simple to learn and really easy to implement, and the users are quite common.\n",
    "Let us begin with stack , as the name suggests.\n",
    "Follow the last in, first out or the LIFO principle as of stacking coins, one on top of the other.\n",
    "The last coin we put on the top is the one that is the first to be removed from the stack later on to\n",
    "implement a stack we use to sample operations.\n",
    "#### One is Push, which adds an element to the top of the stack, \n",
    "and the second one is pop, which removes\n",
    "the element at the top of the stack.\n",
    "Now let's talk about cuz cuz like the name suggests, follow the first in, first out or the FIFO principle,\n",
    "as if waiting in a queue for the movie tickets, the first one to stand in line is the first one to\n",
    "buy a ticket and the last one standing in the line is the last one to buy a ticket.\n",
    "\n",
    "#### To implement Queues, we use two simple operations, the first one is ENQUE, which adds an element to the end of the queue and the second one is dequeue, which removes the element at the beginning of the queue."
   ]
  },
  {
   "cell_type": "markdown",
   "id": "7fa31a07",
   "metadata": {},
   "source": [
    "# Implement stack using lists\n",
    " "
   ]
  },
  {
   "cell_type": "code",
   "execution_count": 1,
   "id": "9ece7d88",
   "metadata": {},
   "outputs": [],
   "source": [
    "#Empty list\n",
    "letters=[]\n"
   ]
  },
  {
   "cell_type": "code",
   "execution_count": 3,
   "id": "d90e90bb",
   "metadata": {},
   "outputs": [
    {
     "data": {
      "text/plain": [
       "['a', 'e', 'i', 'o', 'u', 'a', 'e', 'i', 'o', 'u']"
      ]
     },
     "execution_count": 3,
     "metadata": {},
     "output_type": "execute_result"
    }
   ],
   "source": [
    "#Adding elements\n",
    "#Push Operation\n",
    "letters.append('a')\n",
    "letters.append('e')\n",
    "letters.append('i')\n",
    "letters.append('o')\n",
    "letters.append('u')\n",
    "letters"
   ]
  },
  {
   "cell_type": "code",
   "execution_count": 4,
   "id": "6ef77a25",
   "metadata": {},
   "outputs": [
    {
     "data": {
      "text/plain": [
       "['a', 'e', 'i', 'o', 'u', 'a', 'e', 'i', 'o']"
      ]
     },
     "execution_count": 4,
     "metadata": {},
     "output_type": "execute_result"
    }
   ],
   "source": [
    "#pop operation\n",
    "letters.pop()\n",
    "letters"
   ]
  },
  {
   "cell_type": "code",
   "execution_count": 5,
   "id": "adad418f",
   "metadata": {},
   "outputs": [
    {
     "data": {
      "text/plain": [
       "'o'"
      ]
     },
     "execution_count": 5,
     "metadata": {},
     "output_type": "execute_result"
    }
   ],
   "source": [
    "#pop operation\n",
    "letters.pop()"
   ]
  },
  {
   "cell_type": "markdown",
   "id": "02aad53c",
   "metadata": {},
   "source": [
    "# Implementing Queues"
   ]
  },
  {
   "cell_type": "code",
   "execution_count": 6,
   "id": "1c7b0f22",
   "metadata": {},
   "outputs": [],
   "source": [
    "#Empty list\n",
    "fruits=[]"
   ]
  },
  {
   "cell_type": "code",
   "execution_count": 7,
   "id": "16800027",
   "metadata": {},
   "outputs": [
    {
     "data": {
      "text/plain": [
       "['mango', 'apple', 'cherry', 'pineapple', 'potato']"
      ]
     },
     "execution_count": 7,
     "metadata": {},
     "output_type": "execute_result"
    }
   ],
   "source": [
    "#enqueue operation\n",
    "fruits.append('mango')\n",
    "fruits.append('apple')\n",
    "fruits.append('cherry')\n",
    "fruits.append('pineapple')\n",
    "fruits.append('potato')\n",
    "fruits"
   ]
  },
  {
   "cell_type": "code",
   "execution_count": 8,
   "id": "9c38504a",
   "metadata": {},
   "outputs": [
    {
     "data": {
      "text/plain": [
       "'mango'"
      ]
     },
     "execution_count": 8,
     "metadata": {},
     "output_type": "execute_result"
    }
   ],
   "source": [
    "#dequeue operation\n",
    "fruits.pop(0)"
   ]
  },
  {
   "cell_type": "code",
   "execution_count": 9,
   "id": "a9b37c58",
   "metadata": {},
   "outputs": [
    {
     "data": {
      "text/plain": [
       "'apple'"
      ]
     },
     "execution_count": 9,
     "metadata": {},
     "output_type": "execute_result"
    }
   ],
   "source": [
    "fruits.pop(0)"
   ]
  },
  {
   "cell_type": "code",
   "execution_count": null,
   "id": "96d92e82",
   "metadata": {},
   "outputs": [],
   "source": []
  }
 ],
 "metadata": {
  "kernelspec": {
   "display_name": "Python 3",
   "language": "python",
   "name": "python3"
  },
  "language_info": {
   "codemirror_mode": {
    "name": "ipython",
    "version": 3
   },
   "file_extension": ".py",
   "mimetype": "text/x-python",
   "name": "python",
   "nbconvert_exporter": "python",
   "pygments_lexer": "ipython3",
   "version": "3.6.8"
  }
 },
 "nbformat": 4,
 "nbformat_minor": 5
}
