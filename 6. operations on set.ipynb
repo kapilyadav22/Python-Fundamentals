{
 "cells": [
  {
   "cell_type": "markdown",
   "id": "59be477d",
   "metadata": {},
   "source": [
    "# Operations on set\n",
    "## Sets can be used to carry out mathematical set operations like\n",
    "1. Union\n",
    "2. Intersection\n",
    "3. Difference\n",
    "4. Symmetric difference"
   ]
  },
  {
   "cell_type": "markdown",
   "id": "776d59a8",
   "metadata": {},
   "source": [
    "# Set union\n",
    "\n",
    "Union of two sets is the set of all elements from both the sets. Set union can be performed using two ways:\n",
    "\n",
    "1. | operation\n",
    "2. union() method"
   ]
  },
  {
   "cell_type": "code",
   "execution_count": 1,
   "id": "4641c376",
   "metadata": {},
   "outputs": [
    {
     "data": {
      "text/plain": [
       "{1, 2, 3, 4, 5, 6, 7, 8, 9, 10}"
      ]
     },
     "execution_count": 1,
     "metadata": {},
     "output_type": "execute_result"
    }
   ],
   "source": [
    "A={1,2,3,4,5}\n",
    "B={6,7,8,9,10}\n",
    "A|B"
   ]
  },
  {
   "cell_type": "code",
   "execution_count": 2,
   "id": "d928a551",
   "metadata": {},
   "outputs": [
    {
     "data": {
      "text/plain": [
       "{1, 2, 3, 4, 5, 6, 7, 8, 9, 10}"
      ]
     },
     "execution_count": 2,
     "metadata": {},
     "output_type": "execute_result"
    }
   ],
   "source": [
    "A.union(B)"
   ]
  },
  {
   "cell_type": "code",
   "execution_count": 3,
   "id": "1a912818",
   "metadata": {},
   "outputs": [
    {
     "data": {
      "text/plain": [
       "{1, 2, 3, 4, 5, 6, 7, 8, 9, 10}"
      ]
     },
     "execution_count": 3,
     "metadata": {},
     "output_type": "execute_result"
    }
   ],
   "source": [
    "B.union(A)"
   ]
  },
  {
   "cell_type": "markdown",
   "id": "3d9e93ec",
   "metadata": {},
   "source": [
    "# Set intersection\n",
    "The intersection of two sets is the set of elements that are present in both the sets. Set intersection can be performed using two ways:-\n",
    "1. & operation\n",
    "2. intersection() method"
   ]
  },
  {
   "cell_type": "code",
   "execution_count": 5,
   "id": "9d5dbe58",
   "metadata": {},
   "outputs": [
    {
     "data": {
      "text/plain": [
       "{5}"
      ]
     },
     "execution_count": 5,
     "metadata": {},
     "output_type": "execute_result"
    }
   ],
   "source": [
    "A= { 1, 2, 3, 4, 5}\n",
    "B={5,6,7,8,9}\n",
    "A & B"
   ]
  },
  {
   "cell_type": "code",
   "execution_count": 6,
   "id": "81ce7a53",
   "metadata": {},
   "outputs": [
    {
     "data": {
      "text/plain": [
       "{5}"
      ]
     },
     "execution_count": 6,
     "metadata": {},
     "output_type": "execute_result"
    }
   ],
   "source": [
    "A= { 1, 2, 3, 4, 5}\n",
    "B={5,6,7,8,9}\n",
    "A.intersection(B)"
   ]
  },
  {
   "cell_type": "code",
   "execution_count": 7,
   "id": "79f2a75e",
   "metadata": {},
   "outputs": [
    {
     "data": {
      "text/plain": [
       "{5}"
      ]
     },
     "execution_count": 7,
     "metadata": {},
     "output_type": "execute_result"
    }
   ],
   "source": [
    "B.intersection(A)"
   ]
  },
  {
   "cell_type": "markdown",
   "id": "a4acca68",
   "metadata": {},
   "source": [
    "# Set difference \n",
    "The difference of set B from the set A(which we write as A-B) is the set of elements that are only in A but not in B"
   ]
  },
  {
   "cell_type": "code",
   "execution_count": 8,
   "id": "2704cd80",
   "metadata": {},
   "outputs": [
    {
     "data": {
      "text/plain": [
       "{1, 2}"
      ]
     },
     "execution_count": 8,
     "metadata": {},
     "output_type": "execute_result"
    }
   ],
   "source": [
    "A={1,2,3,4,5}\n",
    "B={3,4,5,6}\n",
    "A-B"
   ]
  },
  {
   "cell_type": "code",
   "execution_count": 9,
   "id": "febf3a43",
   "metadata": {},
   "outputs": [
    {
     "data": {
      "text/plain": [
       "{6}"
      ]
     },
     "execution_count": 9,
     "metadata": {},
     "output_type": "execute_result"
    }
   ],
   "source": [
    "B-A"
   ]
  },
  {
   "cell_type": "markdown",
   "id": "2eac3ac3",
   "metadata": {},
   "source": [
    "1. For A-B we can use A.difference(B)\n",
    "2. For B-A we can use B.difference(A)"
   ]
  },
  {
   "cell_type": "markdown",
   "id": "105d7bed",
   "metadata": {},
   "source": [
    "# Set Symetric difference\n",
    "The set symmetric difference is the set of all elements from A and B, excluding elements that are common\n",
    "in both.\n",
    "The symmetric difference is performed using the \n",
    "1. ^ (hot) operator \n",
    "2. symmetric_difference() method.\n"
   ]
  },
  {
   "cell_type": "code",
   "execution_count": 10,
   "id": "dfae092a",
   "metadata": {},
   "outputs": [
    {
     "data": {
      "text/plain": [
       "{1, 2, 6}"
      ]
     },
     "execution_count": 10,
     "metadata": {},
     "output_type": "execute_result"
    }
   ],
   "source": [
    "A^B"
   ]
  },
  {
   "cell_type": "code",
   "execution_count": 11,
   "id": "d29cbd24",
   "metadata": {},
   "outputs": [
    {
     "data": {
      "text/plain": [
       "{1, 2, 6}"
      ]
     },
     "execution_count": 11,
     "metadata": {},
     "output_type": "execute_result"
    }
   ],
   "source": [
    "A.symmetric_difference(B)"
   ]
  },
  {
   "cell_type": "code",
   "execution_count": 12,
   "id": "4564f6f4",
   "metadata": {},
   "outputs": [
    {
     "data": {
      "text/plain": [
       "{1, 2, 6}"
      ]
     },
     "execution_count": 12,
     "metadata": {},
     "output_type": "execute_result"
    }
   ],
   "source": [
    "B.symmetric_difference(A)"
   ]
  },
  {
   "cell_type": "code",
   "execution_count": null,
   "id": "f8d9277a",
   "metadata": {},
   "outputs": [],
   "source": [
    " "
   ]
  }
 ],
 "metadata": {
  "kernelspec": {
   "display_name": "Python 3",
   "language": "python",
   "name": "python3"
  },
  "language_info": {
   "codemirror_mode": {
    "name": "ipython",
    "version": 3
   },
   "file_extension": ".py",
   "mimetype": "text/x-python",
   "name": "python",
   "nbconvert_exporter": "python",
   "pygments_lexer": "ipython3",
   "version": "3.6.8"
  }
 },
 "nbformat": 4,
 "nbformat_minor": 5
}
