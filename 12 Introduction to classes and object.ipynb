{
 "cells": [
  {
   "cell_type": "markdown",
   "id": "eaa52cbb",
   "metadata": {},
   "source": [
    "## Classes and objects\n",
    "And object is simply a collection of data and methods that act upon those data.\n",
    "Class is a blueprint for objects, we can think of the class as a prototype for a person.\n",
    "It contains all the details about the person's age, the person's address, that person's occupation,\n",
    "etc. And a particular person is the object of the class.\n",
    "An object is also called an instance of the class, and the process of creating objects is called instantiation.\n"
   ]
  },
  {
   "cell_type": "code",
   "execution_count": 6,
   "id": "4aa9011f",
   "metadata": {},
   "outputs": [],
   "source": [
    "#creating a class\n",
    "class Person:\n",
    "    age=20"
   ]
  },
  {
   "cell_type": "code",
   "execution_count": 7,
   "id": "a4c59f0d",
   "metadata": {},
   "outputs": [],
   "source": [
    "#creating object of Person class\n",
    "Nikhil= Person()"
   ]
  },
  {
   "cell_type": "code",
   "execution_count": 8,
   "id": "cb075c8c",
   "metadata": {},
   "outputs": [],
   "source": [
    "class Person: \n",
    "    def _init_(self, name, age):\n",
    "        self.name =name\n",
    "        self.age  =age\n",
    "        \n",
    "#Self parameter used is the reference to the current object\n",
    "#Self parameter has to be the first parameter of any function of the class"
   ]
  },
  {
   "cell_type": "code",
   "execution_count": 9,
   "id": "481016a3",
   "metadata": {},
   "outputs": [
    {
     "ename": "TypeError",
     "evalue": "object() takes no parameters",
     "output_type": "error",
     "traceback": [
      "\u001b[1;31m---------------------------------------------------------------------------\u001b[0m",
      "\u001b[1;31mTypeError\u001b[0m                                 Traceback (most recent call last)",
      "\u001b[1;32m<ipython-input-9-695e08e6d90e>\u001b[0m in \u001b[0;36m<module>\u001b[1;34m\u001b[0m\n\u001b[1;32m----> 1\u001b[1;33m \u001b[0mp1\u001b[0m \u001b[1;33m=\u001b[0m \u001b[0mPerson\u001b[0m\u001b[1;33m(\u001b[0m\u001b[1;34m\"Kapil\"\u001b[0m\u001b[1;33m,\u001b[0m\u001b[1;36m24\u001b[0m\u001b[1;33m)\u001b[0m\u001b[1;33m\u001b[0m\u001b[1;33m\u001b[0m\u001b[0m\n\u001b[0m",
      "\u001b[1;31mTypeError\u001b[0m: object() takes no parameters"
     ]
    }
   ],
   "source": [
    "p1 = Person(\"Kapil\",24)"
   ]
  },
  {
   "cell_type": "code",
   "execution_count": null,
   "id": "fb6dcf89",
   "metadata": {},
   "outputs": [],
   "source": [
    " print(p1.name)\n",
    "print(p1.age)"
   ]
  },
  {
   "cell_type": "code",
   "execution_count": null,
   "id": "f525ef8b",
   "metadata": {},
   "outputs": [],
   "source": []
  },
  {
   "cell_type": "code",
   "execution_count": null,
   "id": "e53f3a92",
   "metadata": {},
   "outputs": [],
   "source": []
  }
 ],
 "metadata": {
  "kernelspec": {
   "display_name": "Python 3",
   "language": "python",
   "name": "python3"
  },
  "language_info": {
   "codemirror_mode": {
    "name": "ipython",
    "version": 3
   },
   "file_extension": ".py",
   "mimetype": "text/x-python",
   "name": "python",
   "nbconvert_exporter": "python",
   "pygments_lexer": "ipython3",
   "version": "3.6.8"
  }
 },
 "nbformat": 4,
 "nbformat_minor": 5
}
