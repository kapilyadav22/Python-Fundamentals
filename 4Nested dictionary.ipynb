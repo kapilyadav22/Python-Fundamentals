{
 "cells": [
  {
   "cell_type": "markdown",
   "id": "71f3545a",
   "metadata": {},
   "source": [
    "# Nested dictionary \n",
    "\n",
    "A Nested dictionary is a dictionary inside the dictionary. It's a collection of dictionaries into one single dictionary.\n",
    "### nested_dict= {dict1: {Key1:value1}, dict2:{key2:value2}}"
   ]
  },
  {
   "cell_type": "code",
   "execution_count": 2,
   "id": "89d4b94c",
   "metadata": {},
   "outputs": [
    {
     "data": {
      "text/plain": [
       "{'Ram': {'Maths': 75, 'Science': 90},\n",
       " 'Kapil': {'Maths': 95, 'Science': 75},\n",
       " 'Raju': {'Maths': 65, 'Science': 60}}"
      ]
     },
     "execution_count": 2,
     "metadata": {},
     "output_type": "execute_result"
    }
   ],
   "source": [
    "#creating a dictionary\n",
    "students_marks= {'Ram':{\"Maths\":75, \"Science\": 90},\n",
    "                'Kapil':{\"Maths\":95, \"Science\": 75},\n",
    "                \"Raju\": {\"Maths\":65, \"Science\": 60}}\n",
    "students_marks"
   ]
  },
  {
   "cell_type": "code",
   "execution_count": 3,
   "id": "888385ac",
   "metadata": {},
   "outputs": [
    {
     "data": {
      "text/plain": [
       "{'Maths': 65, 'Science': 60}"
      ]
     },
     "execution_count": 3,
     "metadata": {},
     "output_type": "execute_result"
    }
   ],
   "source": [
    "#accessing values in a nested dictionary\n",
    "students_marks['Raju']"
   ]
  },
  {
   "cell_type": "code",
   "execution_count": 4,
   "id": "658e6657",
   "metadata": {},
   "outputs": [
    {
     "data": {
      "text/plain": [
       "65"
      ]
     },
     "execution_count": 4,
     "metadata": {},
     "output_type": "execute_result"
    }
   ],
   "source": [
    "students_marks['Raju']['Maths']"
   ]
  },
  {
   "cell_type": "code",
   "execution_count": 5,
   "id": "7f14f3e1",
   "metadata": {},
   "outputs": [
    {
     "data": {
      "text/plain": [
       "{'Ram': {'Maths': 100, 'Science': 90},\n",
       " 'Kapil': {'Maths': 95, 'Science': 75},\n",
       " 'Raju': {'Maths': 65, 'Science': 60}}"
      ]
     },
     "execution_count": 5,
     "metadata": {},
     "output_type": "execute_result"
    }
   ],
   "source": [
    "students_marks['Ram']['Maths']=100\n",
    "students_marks"
   ]
  },
  {
   "cell_type": "code",
   "execution_count": 8,
   "id": "caf7afab",
   "metadata": {},
   "outputs": [
    {
     "data": {
      "text/plain": [
       "{'Maths': 100, 'Science': 90}"
      ]
     },
     "execution_count": 8,
     "metadata": {},
     "output_type": "execute_result"
    }
   ],
   "source": [
    "#removing item  from a nested dictionary\n",
    "students_marks.pop(\"Ram\")"
   ]
  },
  {
   "cell_type": "code",
   "execution_count": 9,
   "id": "8c29dd2e",
   "metadata": {},
   "outputs": [
    {
     "data": {
      "text/plain": [
       "{'Kapil': {'Maths': 95, 'Science': 75}, 'Raju': {'Maths': 65, 'Science': 60}}"
      ]
     },
     "execution_count": 9,
     "metadata": {},
     "output_type": "execute_result"
    }
   ],
   "source": [
    "students_marks"
   ]
  },
  {
   "cell_type": "code",
   "execution_count": 12,
   "id": "3c5111d9",
   "metadata": {},
   "outputs": [
    {
     "name": "stdout",
     "output_type": "stream",
     "text": [
      "Name of student : Kapil\n",
      "Maths : 95\n",
      "Science : 75\n",
      "Name of student : Raju\n",
      "Maths : 65\n",
      "Science : 60\n"
     ]
    }
   ],
   "source": [
    " #iterating through  a nested dictionary \n",
    "for name, subjects in students_marks.items():\n",
    "    print(\"Name of student :\", name)\n",
    "    for marks in subjects:\n",
    "        print(marks,\":\", subjects[marks])"
   ]
  },
  {
   "cell_type": "code",
   "execution_count": null,
   "id": "b28c1d75",
   "metadata": {},
   "outputs": [],
   "source": []
  }
 ],
 "metadata": {
  "kernelspec": {
   "display_name": "Python 3",
   "language": "python",
   "name": "python3"
  },
  "language_info": {
   "codemirror_mode": {
    "name": "ipython",
    "version": 3
   },
   "file_extension": ".py",
   "mimetype": "text/x-python",
   "name": "python",
   "nbconvert_exporter": "python",
   "pygments_lexer": "ipython3",
   "version": "3.6.8"
  }
 },
 "nbformat": 4,
 "nbformat_minor": 5
}
