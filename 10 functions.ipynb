{
 "cells": [
  {
   "cell_type": "markdown",
   "id": "3987ab4e",
   "metadata": {},
   "source": [
    "# Function\n",
    "\n",
    "A Function is a group of related statements that performs a specific task which only runs when it is called."
   ]
  },
  {
   "cell_type": "markdown",
   "id": "beff43e1",
   "metadata": {},
   "source": [
    "# Rules for creating Functions\n",
    "\n",
    "We define a function using def Keywood, a function name to uniquely identify the function.\n",
    "function Naming follows the same rules of writing identifiers in Python.\n",
    "parameters or arguments through which we pass values to a function they are optional.\n",
    "A colon(:) to mark the end of function header.\n",
    "One or more statements that make up  Function body. Statements must have the same indentation level"
   ]
  },
  {
   "cell_type": "code",
   "execution_count": 1,
   "id": "3592e2e1",
   "metadata": {},
   "outputs": [],
   "source": [
    "#defining a function\n",
    "def My_function():\n",
    "    a=5\n",
    "    b=4\n",
    "    c=a+b\n",
    "    return c"
   ]
  },
  {
   "cell_type": "code",
   "execution_count": 4,
   "id": "8ee20fc4",
   "metadata": {},
   "outputs": [
    {
     "data": {
      "text/plain": [
       "9"
      ]
     },
     "execution_count": 4,
     "metadata": {},
     "output_type": "execute_result"
    }
   ],
   "source": [
    "My_function()"
   ]
  },
  {
   "cell_type": "markdown",
   "id": "2ddfb0b0",
   "metadata": {},
   "source": [
    "# Parameters in Functions\n",
    "\n",
    "1. Parameters are specified after the function name, inside the parentheses.\n",
    "2. You can add as many parameters as required separated by comma"
   ]
  },
  {
   "cell_type": "code",
   "execution_count": 5,
   "id": "2d2bd3a2",
   "metadata": {},
   "outputs": [],
   "source": [
    "#defining a function with parameters\n",
    "def my_function(a,b):\n",
    "    return a+b"
   ]
  },
  {
   "cell_type": "code",
   "execution_count": 6,
   "id": "35b12bb0",
   "metadata": {},
   "outputs": [
    {
     "data": {
      "text/plain": [
       "13"
      ]
     },
     "execution_count": 6,
     "metadata": {},
     "output_type": "execute_result"
    }
   ],
   "source": [
    "#calling function\n",
    "my_function(5,8)\n",
    "#An arguement is a value that is sent to the function when it is called."
   ]
  },
  {
   "cell_type": "code",
   "execution_count": 8,
   "id": "1f844e58",
   "metadata": {},
   "outputs": [],
   "source": [
    "#defining function using default parameter\n",
    "def my_function(a,b=4):\n",
    "    return a*b"
   ]
  },
  {
   "cell_type": "code",
   "execution_count": 9,
   "id": "5d9d2505",
   "metadata": {},
   "outputs": [
    {
     "data": {
      "text/plain": [
       "20"
      ]
     },
     "execution_count": 9,
     "metadata": {},
     "output_type": "execute_result"
    }
   ],
   "source": [
    "my_function(5)"
   ]
  },
  {
   "cell_type": "code",
   "execution_count": 19,
   "id": "47323c67",
   "metadata": {},
   "outputs": [
    {
     "data": {
      "text/plain": [
       "30"
      ]
     },
     "execution_count": 19,
     "metadata": {},
     "output_type": "execute_result"
    }
   ],
   "source": [
    "my_function(5,6)"
   ]
  },
  {
   "cell_type": "code",
   "execution_count": 33,
   "id": "43beaf74",
   "metadata": {},
   "outputs": [],
   "source": [
    "def function(x,y,z):\n",
    "    return x+y+z"
   ]
  },
  {
   "cell_type": "code",
   "execution_count": 30,
   "id": "1f32f443",
   "metadata": {},
   "outputs": [
    {
     "data": {
      "text/plain": [
       "34"
      ]
     },
     "execution_count": 30,
     "metadata": {},
     "output_type": "execute_result"
    }
   ],
   "source": [
    "function(5,23,6)"
   ]
  },
  {
   "cell_type": "code",
   "execution_count": 46,
   "id": "0d1719eb",
   "metadata": {},
   "outputs": [],
   "source": [
    "def function(x,y=5,z=6):\n",
    "    return x+y+z\n",
    "#if a parameter is given default value, then every parameter after it should also be given default value.\n",
    "# for example: function(4,5) will give ambiguity if function(x,y=5,z) was declared."
   ]
  },
  {
   "cell_type": "code",
   "execution_count": 48,
   "id": "208e24be",
   "metadata": {},
   "outputs": [
    {
     "data": {
      "text/plain": [
       "19"
      ]
     },
     "execution_count": 48,
     "metadata": {},
     "output_type": "execute_result"
    }
   ],
   "source": [
    "function(5,8)\n",
    "# 5 is assigned to a, 8 is assigned to b, for c we have to assign all the three parameters."
   ]
  },
  {
   "cell_type": "markdown",
   "id": "2fab4c03",
   "metadata": {},
   "source": [
    "# Positional Arguements\n",
    "\n",
    "positional arguments are arguments that need to be included in the proper position or the proper order.\n",
    "\n",
    "The first positional argument always needs to be listed first when the function is called.\n",
    "\n",
    "The second positional argument needs to be listed second and the third positional argument needs to be listed third, etc.."
   ]
  },
  {
   "cell_type": "code",
   "execution_count": 49,
   "id": "0f24e1a6",
   "metadata": {},
   "outputs": [],
   "source": [
    "def function(x,y,z):\n",
    "    return (x*y+z)"
   ]
  },
  {
   "cell_type": "code",
   "execution_count": 50,
   "id": "c8cf1e4c",
   "metadata": {},
   "outputs": [
    {
     "data": {
      "text/plain": [
       "10"
      ]
     },
     "execution_count": 50,
     "metadata": {},
     "output_type": "execute_result"
    }
   ],
   "source": [
    "function(3,2,4)"
   ]
  },
  {
   "cell_type": "code",
   "execution_count": 51,
   "id": "5da57f13",
   "metadata": {},
   "outputs": [],
   "source": [
    "def my_function(a,b=2,c=3):\n",
    "    d=a+b*c\n",
    "    return d"
   ]
  },
  {
   "cell_type": "code",
   "execution_count": 52,
   "id": "269b6c27",
   "metadata": {},
   "outputs": [
    {
     "data": {
      "text/plain": [
       "23"
      ]
     },
     "execution_count": 52,
     "metadata": {},
     "output_type": "execute_result"
    }
   ],
   "source": [
    "my_function(3,4,5)"
   ]
  },
  {
   "cell_type": "markdown",
   "id": "ef02cae8",
   "metadata": {},
   "source": [
    "# Keyword Arguement\n",
    "\n",
    "A Keywood argument is an argument passed to a function or method which is preceded by a keyword and\n",
    "an equal to sign."
   ]
  },
  {
   "cell_type": "code",
   "execution_count": 53,
   "id": "ab511e5a",
   "metadata": {},
   "outputs": [],
   "source": [
    "def marks(m,s,e):\n",
    "    return m+s+e"
   ]
  },
  {
   "cell_type": "code",
   "execution_count": 54,
   "id": "b90d3283",
   "metadata": {},
   "outputs": [
    {
     "data": {
      "text/plain": [
       "200"
      ]
     },
     "execution_count": 54,
     "metadata": {},
     "output_type": "execute_result"
    }
   ],
   "source": [
    "marks(50,70,80)"
   ]
  },
  {
   "cell_type": "code",
   "execution_count": 55,
   "id": "5f3c2e00",
   "metadata": {},
   "outputs": [
    {
     "data": {
      "text/plain": [
       "185"
      ]
     },
     "execution_count": 55,
     "metadata": {},
     "output_type": "execute_result"
    }
   ],
   "source": [
    "marks(m=50,s=70,e=65)"
   ]
  },
  {
   "cell_type": "code",
   "execution_count": 56,
   "id": "b30e2e5c",
   "metadata": {},
   "outputs": [
    {
     "data": {
      "text/plain": [
       "185"
      ]
     },
     "execution_count": 56,
     "metadata": {},
     "output_type": "execute_result"
    }
   ],
   "source": [
    "marks(s=70,m=50,e=65)"
   ]
  },
  {
   "cell_type": "code",
   "execution_count": 58,
   "id": "d36b2712",
   "metadata": {},
   "outputs": [],
   "source": [
    "# marks(s=70,50,65) will throw an error, because it doesnt know which is m and which is s"
   ]
  },
  {
   "cell_type": "code",
   "execution_count": 62,
   "id": "1e20c01b",
   "metadata": {},
   "outputs": [],
   "source": [
    "#if we dont know how many keyword arguements would be passed in the function, we can add 2 astereisk ** before the parameter name in the function definition.\n",
    "def marks(**score):\n",
    "    print(\"marks in science \" + score[\"science\"])\n",
    "    "
   ]
  },
  {
   "cell_type": "code",
   "execution_count": 63,
   "id": "a98d5cdf",
   "metadata": {},
   "outputs": [
    {
     "name": "stdout",
     "output_type": "stream",
     "text": [
      "marks in science 25\n"
     ]
    }
   ],
   "source": [
    "marks(science='25',maths='90', hindi='60')"
   ]
  },
  {
   "cell_type": "code",
   "execution_count": null,
   "id": "dd101d81",
   "metadata": {},
   "outputs": [],
   "source": []
  }
 ],
 "metadata": {
  "kernelspec": {
   "display_name": "Python 3",
   "language": "python",
   "name": "python3"
  },
  "language_info": {
   "codemirror_mode": {
    "name": "ipython",
    "version": 3
   },
   "file_extension": ".py",
   "mimetype": "text/x-python",
   "name": "python",
   "nbconvert_exporter": "python",
   "pygments_lexer": "ipython3",
   "version": "3.6.8"
  }
 },
 "nbformat": 4,
 "nbformat_minor": 5
}
