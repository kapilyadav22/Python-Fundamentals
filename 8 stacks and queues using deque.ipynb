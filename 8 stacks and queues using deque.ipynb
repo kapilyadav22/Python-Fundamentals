{
 "cells": [
  {
   "cell_type": "markdown",
   "id": "102b465f",
   "metadata": {},
   "source": [
    "# Deque is short form of double ended queue\n"
   ]
  },
  {
   "cell_type": "markdown",
   "id": "e1253fc5",
   "metadata": {},
   "source": [
    "# implementing STACK using dequeue"
   ]
  },
  {
   "cell_type": "code",
   "execution_count": 1,
   "id": "686334fb",
   "metadata": {},
   "outputs": [],
   "source": [
    "#importing deque\n",
    "from collections import deque\n"
   ]
  },
  {
   "cell_type": "code",
   "execution_count": 2,
   "id": "63a0e8ba",
   "metadata": {},
   "outputs": [],
   "source": [
    "#initializing \n",
    "numbers=deque()"
   ]
  },
  {
   "cell_type": "code",
   "execution_count": 3,
   "id": "e9223e14",
   "metadata": {},
   "outputs": [
    {
     "data": {
      "text/plain": [
       "deque([23, 34, 12, 54])"
      ]
     },
     "execution_count": 3,
     "metadata": {},
     "output_type": "execute_result"
    }
   ],
   "source": [
    "#Adding items\n",
    "#Push\n",
    "numbers.append(23)\n",
    "numbers.append(34)\n",
    "numbers.append(12)\n",
    "numbers.append(54)\n",
    "numbers"
   ]
  },
  {
   "cell_type": "code",
   "execution_count": 4,
   "id": "ae9ce42a",
   "metadata": {},
   "outputs": [
    {
     "data": {
      "text/plain": [
       "54"
      ]
     },
     "execution_count": 4,
     "metadata": {},
     "output_type": "execute_result"
    }
   ],
   "source": [
    "#removing items\n",
    "#pop\n",
    "numbers.pop()"
   ]
  },
  {
   "cell_type": "markdown",
   "id": "9925597b",
   "metadata": {},
   "source": [
    "# Implementing Queue using Deque"
   ]
  },
  {
   "cell_type": "code",
   "execution_count": 5,
   "id": "dadc47c4",
   "metadata": {},
   "outputs": [],
   "source": [
    "from collections import deque"
   ]
  },
  {
   "cell_type": "code",
   "execution_count": 8,
   "id": "7f899f84",
   "metadata": {},
   "outputs": [],
   "source": [
    "#initialising\n",
    "names=deque()"
   ]
  },
  {
   "cell_type": "code",
   "execution_count": 9,
   "id": "a340ec9b",
   "metadata": {},
   "outputs": [],
   "source": [
    "#Adding items into deque\n",
    "#enque\n",
    "names.append(\"Radhika\")\n",
    "names.append('Shyam')\n",
    "names.append('Ravi')\n",
    "names.append('Kapil')"
   ]
  },
  {
   "cell_type": "code",
   "execution_count": 10,
   "id": "94c779ba",
   "metadata": {},
   "outputs": [
    {
     "data": {
      "text/plain": [
       "deque(['Radhika', 'Shyam', 'Ravi', 'Kapil'])"
      ]
     },
     "execution_count": 10,
     "metadata": {},
     "output_type": "execute_result"
    }
   ],
   "source": [
    "names"
   ]
  },
  {
   "cell_type": "code",
   "execution_count": 11,
   "id": "35e35f83",
   "metadata": {},
   "outputs": [
    {
     "data": {
      "text/plain": [
       "'Radhika'"
      ]
     },
     "execution_count": 11,
     "metadata": {},
     "output_type": "execute_result"
    }
   ],
   "source": [
    "#Removing items \n",
    "#deque\n",
    "names.popleft()"
   ]
  },
  {
   "cell_type": "code",
   "execution_count": null,
   "id": "6c0ec938",
   "metadata": {},
   "outputs": [],
   "source": []
  }
 ],
 "metadata": {
  "kernelspec": {
   "display_name": "Python 3",
   "language": "python",
   "name": "python3"
  },
  "language_info": {
   "codemirror_mode": {
    "name": "ipython",
    "version": 3
   },
   "file_extension": ".py",
   "mimetype": "text/x-python",
   "name": "python",
   "nbconvert_exporter": "python",
   "pygments_lexer": "ipython3",
   "version": "3.6.8"
  }
 },
 "nbformat": 4,
 "nbformat_minor": 5
}
