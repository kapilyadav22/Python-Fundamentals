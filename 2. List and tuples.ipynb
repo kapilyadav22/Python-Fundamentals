{
 "cells": [
  {
   "cell_type": "markdown",
   "id": "a3ca04d8",
   "metadata": {},
   "source": [
    "# List and tuples\n",
    "## Similarities between list and tuples\n",
    "\n",
    "1. List and tuples are the class of Data structures\n",
    "2. List and tuples store one or more values in a specific order. The values stored in a list or tuple can be of any type. "
   ]
  },
  {
   "cell_type": "markdown",
   "id": "e1dba95e",
   "metadata": {},
   "source": [
    "# List\n",
    "The list is a collection of multiple values. Lists are defined in Python by enclosing a comma-separated sequence of values in square brackets[]"
   ]
  },
  {
   "cell_type": "code",
   "execution_count": 2,
   "id": "1c06e3a0",
   "metadata": {},
   "outputs": [
    {
     "data": {
      "text/plain": [
       "['apple', 'banana', 'cheery']"
      ]
     },
     "execution_count": 2,
     "metadata": {},
     "output_type": "execute_result"
    }
   ],
   "source": [
    "a= ['apple', 'banana','cheery']\n",
    "a"
   ]
  },
  {
   "cell_type": "code",
   "execution_count": 3,
   "id": "2570548f",
   "metadata": {},
   "outputs": [
    {
     "data": {
      "text/plain": [
       "'banana'"
      ]
     },
     "execution_count": 3,
     "metadata": {},
     "output_type": "execute_result"
    }
   ],
   "source": [
    "a[1]"
   ]
  },
  {
   "cell_type": "markdown",
   "id": "07221de7",
   "metadata": {},
   "source": [
    "# Tuples \n",
    "A tuple is an immutable sequence of Python objects. Tuples are sequences, just like lists.\n",
    "\n",
    "(Immutable sequence can not be changed once it has been created."
   ]
  },
  {
   "cell_type": "code",
   "execution_count": 5,
   "id": "adc1c1d5",
   "metadata": {},
   "outputs": [
    {
     "data": {
      "text/plain": [
       "(4, 8, 7, 6, 5, 6)"
      ]
     },
     "execution_count": 5,
     "metadata": {},
     "output_type": "execute_result"
    }
   ],
   "source": [
    "#tuple\n",
    "b=(4,8,7,6,5,6)\n",
    "b"
   ]
  },
  {
   "cell_type": "markdown",
   "id": "a0b127ff",
   "metadata": {},
   "source": [
    " list, tuple allows duplicate\n",
    "list are changeable, tuples are un changeable\n",
    "list and tuples are ordered"
   ]
  },
  {
   "cell_type": "code",
   "execution_count": 6,
   "id": "752fd5c4",
   "metadata": {},
   "outputs": [
    {
     "ename": "TypeError",
     "evalue": "'tuple' object does not support item assignment",
     "output_type": "error",
     "traceback": [
      "\u001b[1;31m---------------------------------------------------------------------------\u001b[0m",
      "\u001b[1;31mTypeError\u001b[0m                                 Traceback (most recent call last)",
      "\u001b[1;32m<ipython-input-6-2d6034236888>\u001b[0m in \u001b[0;36m<module>\u001b[1;34m\u001b[0m\n\u001b[1;32m----> 1\u001b[1;33m \u001b[0mb\u001b[0m\u001b[1;33m[\u001b[0m\u001b[1;36m4\u001b[0m\u001b[1;33m]\u001b[0m\u001b[1;33m=\u001b[0m\u001b[1;36m2\u001b[0m\u001b[1;33m\u001b[0m\u001b[1;33m\u001b[0m\u001b[0m\n\u001b[0m",
      "\u001b[1;31mTypeError\u001b[0m: 'tuple' object does not support item assignment"
     ]
    }
   ],
   "source": [
    "b[4]=2"
   ]
  },
  {
   "cell_type": "markdown",
   "id": "2abfd322",
   "metadata": {},
   "source": [
    "# operations on list"
   ]
  },
  {
   "cell_type": "code",
   "execution_count": 21,
   "id": "9e0fea84",
   "metadata": {},
   "outputs": [
    {
     "data": {
      "text/plain": [
       "['apple', 'banana', 'cherry', 'potato']"
      ]
     },
     "execution_count": 21,
     "metadata": {},
     "output_type": "execute_result"
    }
   ],
   "source": [
    "#append\n",
    "#append method adds an element at the end of the list\n",
    "s=['apple', 'banana', 'cherry']\n",
    "s.append('potato')\n",
    "s"
   ]
  },
  {
   "cell_type": "code",
   "execution_count": 22,
   "id": "6ccec430",
   "metadata": {},
   "outputs": [
    {
     "data": {
      "text/plain": [
       "['brinjal', 'apple', 'banana', 'cherry', 'potato']"
      ]
     },
     "execution_count": 22,
     "metadata": {},
     "output_type": "execute_result"
    }
   ],
   "source": [
    "#insert \n",
    "#insert method adds an element at particular position\n",
    "s.insert(0,'brinjal')\n",
    "s"
   ]
  },
  {
   "cell_type": "code",
   "execution_count": 23,
   "id": "42e70155",
   "metadata": {},
   "outputs": [
    {
     "data": {
      "text/plain": [
       "['brinjal', 'apple', 'banana', 'cherry']"
      ]
     },
     "execution_count": 23,
     "metadata": {},
     "output_type": "execute_result"
    }
   ],
   "source": [
    "#remove\n",
    "#remove the item at specified value\n",
    "s.remove('potato')\n",
    "s"
   ]
  },
  {
   "cell_type": "code",
   "execution_count": 25,
   "id": "4e03da70",
   "metadata": {},
   "outputs": [
    {
     "data": {
      "text/plain": [
       "['brinjal', 'apple', 'banana']"
      ]
     },
     "execution_count": 25,
     "metadata": {},
     "output_type": "execute_result"
    }
   ],
   "source": [
    " #pop \n",
    "#pop() methods removes from particular index, (if index is not given, then pop at the last)\n",
    "s.pop()\n",
    "s"
   ]
  },
  {
   "cell_type": "code",
   "execution_count": 26,
   "id": "3a64823b",
   "metadata": {},
   "outputs": [
    {
     "data": {
      "text/plain": [
       "['apple', 'banana']"
      ]
     },
     "execution_count": 26,
     "metadata": {},
     "output_type": "execute_result"
    }
   ],
   "source": [
    "s.pop(0)\n",
    "s"
   ]
  },
  {
   "cell_type": "code",
   "execution_count": 28,
   "id": "d48621b1",
   "metadata": {},
   "outputs": [
    {
     "data": {
      "text/plain": [
       "['apple', 'banana']"
      ]
     },
     "execution_count": 28,
     "metadata": {},
     "output_type": "execute_result"
    }
   ],
   "source": [
    "#copy()\n",
    "#copy() methods returns a copy of the list\n",
    "scopy=s.copy()\n",
    "scopy"
   ]
  },
  {
   "cell_type": "code",
   "execution_count": 29,
   "id": "cf51cf03",
   "metadata": {},
   "outputs": [
    {
     "data": {
      "text/plain": [
       "[]"
      ]
     },
     "execution_count": 29,
     "metadata": {},
     "output_type": "execute_result"
    }
   ],
   "source": [
    "#clear()\n",
    "#clear method removes all the elements from the list\n",
    "scopy.clear()\n",
    "scopy"
   ]
  },
  {
   "cell_type": "code",
   "execution_count": 31,
   "id": "a1a18522",
   "metadata": {},
   "outputs": [
    {
     "data": {
      "text/plain": [
       "['banana', 'apple']"
      ]
     },
     "execution_count": 31,
     "metadata": {},
     "output_type": "execute_result"
    }
   ],
   "source": [
    "#reverse \n",
    "# reverse method reverse the order of list\n",
    "s.reverse()\n",
    "s"
   ]
  },
  {
   "cell_type": "code",
   "execution_count": 33,
   "id": "9f4dae43",
   "metadata": {},
   "outputs": [
    {
     "data": {
      "text/plain": [
       "1"
      ]
     },
     "execution_count": 33,
     "metadata": {},
     "output_type": "execute_result"
    }
   ],
   "source": [
    "#count\n",
    "#count method returns the number of elements with the specified value.\n",
    "s.count('apple')"
   ]
  },
  {
   "cell_type": "code",
   "execution_count": 34,
   "id": "426d184c",
   "metadata": {},
   "outputs": [
    {
     "data": {
      "text/plain": [
       "['banana', 'apple', 3, 8]"
      ]
     },
     "execution_count": 34,
     "metadata": {},
     "output_type": "execute_result"
    }
   ],
   "source": [
    "#extend()\n",
    "#extend method add the elements of the list to the current list.\n",
    "s1=[3,8]\n",
    "s.extend(s1)\n",
    "s"
   ]
  },
  {
   "cell_type": "code",
   "execution_count": 35,
   "id": "44d50e0b",
   "metadata": {},
   "outputs": [
    {
     "data": {
      "text/plain": [
       "['apple', 'banana', 'cherry']"
      ]
     },
     "execution_count": 35,
     "metadata": {},
     "output_type": "execute_result"
    }
   ],
   "source": [
    "#sort()\n",
    "#sorts the list\n",
    "s=['cherry', 'banana','apple']\n",
    "s.sort()\n",
    "s"
   ]
  },
  {
   "cell_type": "markdown",
   "id": "7c82264b",
   "metadata": {},
   "source": [
    "# Operations of tuples\n",
    "\n",
    "count()\n",
    "\n",
    "count() method returns the number of times a specified value occurs in the tuple"
   ]
  },
  {
   "cell_type": "code",
   "execution_count": 37,
   "id": "6e7ac9fc",
   "metadata": {},
   "outputs": [
    {
     "data": {
      "text/plain": [
       "2"
      ]
     },
     "execution_count": 37,
     "metadata": {},
     "output_type": "execute_result"
    }
   ],
   "source": [
    "#using count method\n",
    "t=('apple', 'banana','cherry','banana')\n",
    "t.count('banana')"
   ]
  },
  {
   "cell_type": "code",
   "execution_count": 38,
   "id": "cdd7fbf9",
   "metadata": {},
   "outputs": [
    {
     "data": {
      "text/plain": [
       "2"
      ]
     },
     "execution_count": 38,
     "metadata": {},
     "output_type": "execute_result"
    }
   ],
   "source": [
    "#index()\n",
    "#index method searches the tuple for specified value and returns the position of where it was found\n",
    "t.index('cherry')"
   ]
  },
  {
   "cell_type": "code",
   "execution_count": 39,
   "id": "83bb0d15",
   "metadata": {},
   "outputs": [
    {
     "data": {
      "text/plain": [
       "4"
      ]
     },
     "execution_count": 39,
     "metadata": {},
     "output_type": "execute_result"
    }
   ],
   "source": [
    "#len\n",
    "#len() method returns the length of the tuple\n",
    "len(t)"
   ]
  },
  {
   "cell_type": "code",
   "execution_count": 40,
   "id": "ad768a82",
   "metadata": {},
   "outputs": [
    {
     "data": {
      "text/plain": [
       "(2, 5, 7, 6, 1, 2, 4, 5)"
      ]
     },
     "execution_count": 40,
     "metadata": {},
     "output_type": "execute_result"
    }
   ],
   "source": [
    "#+ operator to join tuples\n",
    "u1=(2,5,7,6)\n",
    "u2=(1,2,4,5)\n",
    "u1+u2\n"
   ]
  },
  {
   "cell_type": "code",
   "execution_count": null,
   "id": "17a5c94b",
   "metadata": {},
   "outputs": [],
   "source": []
  }
 ],
 "metadata": {
  "kernelspec": {
   "display_name": "Python 3",
   "language": "python",
   "name": "python3"
  },
  "language_info": {
   "codemirror_mode": {
    "name": "ipython",
    "version": 3
   },
   "file_extension": ".py",
   "mimetype": "text/x-python",
   "name": "python",
   "nbconvert_exporter": "python",
   "pygments_lexer": "ipython3",
   "version": "3.6.8"
  }
 },
 "nbformat": 4,
 "nbformat_minor": 5
}
