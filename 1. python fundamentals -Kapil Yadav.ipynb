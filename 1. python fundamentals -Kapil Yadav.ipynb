{
 "cells": [
  {
   "cell_type": "markdown",
   "id": "9b755f55",
   "metadata": {},
   "source": [
    "* This is python\n",
    "# kapil yadav\n",
    "## kapil yadav\n",
    "### kapil yadav#### kapil yadav\n",
    "###### kapil yadav"
   ]
  },
  {
   "cell_type": "code",
   "execution_count": 3,
   "id": "4e9043d8",
   "metadata": {},
   "outputs": [],
   "source": [
    "a,b,c,d,e,f,g,h=1,'kapil Yadav', 2,'Deepanker',3,3.5,4,'Shubham'"
   ]
  },
  {
   "cell_type": "code",
   "execution_count": 4,
   "id": "be51f9fd",
   "metadata": {},
   "outputs": [
    {
     "data": {
      "text/plain": [
       "(1, 'kapil Yadav', 2, 'Deepanker', 3, 3.5, 4, 'Shubham')"
      ]
     },
     "execution_count": 4,
     "metadata": {},
     "output_type": "execute_result"
    }
   ],
   "source": [
    "a,b,c,d,e,f,g,h"
   ]
  },
  {
   "cell_type": "code",
   "execution_count": 5,
   "id": "e8d46cfe",
   "metadata": {},
   "outputs": [
    {
     "name": "stdout",
     "output_type": "stream",
     "text": [
      "<class 'float'>\n"
     ]
    }
   ],
   "source": [
    "print(type(f))"
   ]
  },
  {
   "cell_type": "code",
   "execution_count": 6,
   "id": "d9994736",
   "metadata": {},
   "outputs": [
    {
     "name": "stdout",
     "output_type": "stream",
     "text": [
      "<class 'str'>\n"
     ]
    }
   ],
   "source": [
    "f=str(f)\n",
    "print(type(f))"
   ]
  },
  {
   "cell_type": "code",
   "execution_count": 7,
   "id": "96ca53aa",
   "metadata": {},
   "outputs": [],
   "source": [
    "#local variable x \n",
    "def func():\n",
    "    x=5\n",
    "    print(x)"
   ]
  },
  {
   "cell_type": "code",
   "execution_count": 8,
   "id": "75fb614d",
   "metadata": {},
   "outputs": [
    {
     "name": "stdout",
     "output_type": "stream",
     "text": [
      "5\n"
     ]
    }
   ],
   "source": [
    "func()"
   ]
  },
  {
   "cell_type": "code",
   "execution_count": 9,
   "id": "595863e2",
   "metadata": {},
   "outputs": [],
   "source": [
    "x=10\n",
    "def myfunc():\n",
    "    y=10\n",
    "    "
   ]
  },
  {
   "cell_type": "code",
   "execution_count": 10,
   "id": "7b4086ce",
   "metadata": {},
   "outputs": [
    {
     "name": "stdout",
     "output_type": "stream",
     "text": [
      "10\n"
     ]
    }
   ],
   "source": [
    "print(x)"
   ]
  },
  {
   "cell_type": "code",
   "execution_count": 11,
   "id": "94616081",
   "metadata": {},
   "outputs": [],
   "source": [
    "#ninja technique\n",
    "def myfunc2():\n",
    "    global m\n",
    "    m=90\n",
    "    print(m)"
   ]
  },
  {
   "cell_type": "code",
   "execution_count": 12,
   "id": "cebde419",
   "metadata": {},
   "outputs": [
    {
     "name": "stdout",
     "output_type": "stream",
     "text": [
      "90\n"
     ]
    }
   ],
   "source": [
    "myfunc2()\n"
   ]
  },
  {
   "cell_type": "code",
   "execution_count": 13,
   "id": "d9531533",
   "metadata": {},
   "outputs": [
    {
     "name": "stdout",
     "output_type": "stream",
     "text": [
      "90\n"
     ]
    }
   ],
   "source": [
    "print(m)"
   ]
  },
  {
   "cell_type": "markdown",
   "id": "fe577ee5",
   "metadata": {},
   "source": [
    "# ARITHMETIC OPERATION"
   ]
  },
  {
   "cell_type": "code",
   "execution_count": 14,
   "id": "983a7c4e",
   "metadata": {},
   "outputs": [
    {
     "data": {
      "text/plain": [
       "13"
      ]
     },
     "execution_count": 14,
     "metadata": {},
     "output_type": "execute_result"
    }
   ],
   "source": [
    "5+8"
   ]
  },
  {
   "cell_type": "code",
   "execution_count": 15,
   "id": "bc4911b6",
   "metadata": {},
   "outputs": [
    {
     "data": {
      "text/plain": [
       "3"
      ]
     },
     "execution_count": 15,
     "metadata": {},
     "output_type": "execute_result"
    }
   ],
   "source": [
    "8-5"
   ]
  },
  {
   "cell_type": "code",
   "execution_count": 16,
   "id": "980255e7",
   "metadata": {},
   "outputs": [
    {
     "data": {
      "text/plain": [
       "8"
      ]
     },
     "execution_count": 16,
     "metadata": {},
     "output_type": "execute_result"
    }
   ],
   "source": [
    "#EXPONENT\n",
    "2**3"
   ]
  },
  {
   "cell_type": "code",
   "execution_count": 17,
   "id": "27840a7b",
   "metadata": {},
   "outputs": [
    {
     "data": {
      "text/plain": [
       "6"
      ]
     },
     "execution_count": 17,
     "metadata": {},
     "output_type": "execute_result"
    }
   ],
   "source": [
    "2*3"
   ]
  },
  {
   "cell_type": "code",
   "execution_count": 18,
   "id": "78e6c74d",
   "metadata": {},
   "outputs": [
    {
     "data": {
      "text/plain": [
       "3.0"
      ]
     },
     "execution_count": 18,
     "metadata": {},
     "output_type": "execute_result"
    }
   ],
   "source": [
    "6/2"
   ]
  },
  {
   "cell_type": "code",
   "execution_count": 19,
   "id": "9e689757",
   "metadata": {},
   "outputs": [
    {
     "data": {
      "text/plain": [
       "1"
      ]
     },
     "execution_count": 19,
     "metadata": {},
     "output_type": "execute_result"
    }
   ],
   "source": [
    "#MOD\n",
    "5%2"
   ]
  },
  {
   "cell_type": "code",
   "execution_count": 20,
   "id": "336ae6c4",
   "metadata": {},
   "outputs": [],
   "source": [
    "#ASSIGNMENT\n",
    "X=6"
   ]
  },
  {
   "cell_type": "code",
   "execution_count": 21,
   "id": "d44d89b4",
   "metadata": {},
   "outputs": [
    {
     "data": {
      "text/plain": [
       "9"
      ]
     },
     "execution_count": 21,
     "metadata": {},
     "output_type": "execute_result"
    }
   ],
   "source": [
    "#ADD EQUAL TO OPERATOR\n",
    "X=5\n",
    "Y=4\n",
    "X+=Y   #X=X+Y\n",
    "X"
   ]
  },
  {
   "cell_type": "code",
   "execution_count": 22,
   "id": "1ee41196",
   "metadata": {},
   "outputs": [
    {
     "data": {
      "text/plain": [
       "10"
      ]
     },
     "execution_count": 22,
     "metadata": {},
     "output_type": "execute_result"
    }
   ],
   "source": [
    "#SUBTRACT EQUAL TO OPERATOR\n",
    "X=50\n",
    "Y=40\n",
    "X-=Y   #X=X-Y\n",
    "X"
   ]
  },
  {
   "cell_type": "code",
   "execution_count": 23,
   "id": "1fabc5f8",
   "metadata": {},
   "outputs": [
    {
     "data": {
      "text/plain": [
       "2000"
      ]
     },
     "execution_count": 23,
     "metadata": {},
     "output_type": "execute_result"
    }
   ],
   "source": [
    "#MULTIPLY EQUAL TO OPERATOR\n",
    "X=50\n",
    "Y=40\n",
    "X*=Y   #X=X*Y\n",
    "X"
   ]
  },
  {
   "cell_type": "code",
   "execution_count": 24,
   "id": "c6b3bf14",
   "metadata": {},
   "outputs": [
    {
     "data": {
      "text/plain": [
       "1.25"
      ]
     },
     "execution_count": 24,
     "metadata": {},
     "output_type": "execute_result"
    }
   ],
   "source": [
    "#DIVIDE EQUAL TO OPERATOR\n",
    "X=50\n",
    "Y=40\n",
    "X/=Y   #X=X/Y\n",
    "X"
   ]
  },
  {
   "cell_type": "code",
   "execution_count": 25,
   "id": "828082f9",
   "metadata": {},
   "outputs": [
    {
     "data": {
      "text/plain": [
       "10"
      ]
     },
     "execution_count": 25,
     "metadata": {},
     "output_type": "execute_result"
    }
   ],
   "source": [
    "#MODULO EQUAL TO OPERATOR\n",
    "X=50\n",
    "Y=40\n",
    "X%=Y   #X=X%Y\n",
    "X"
   ]
  },
  {
   "cell_type": "code",
   "execution_count": 26,
   "id": "24e3c245",
   "metadata": {},
   "outputs": [
    {
     "data": {
      "text/plain": [
       "8"
      ]
     },
     "execution_count": 26,
     "metadata": {},
     "output_type": "execute_result"
    }
   ],
   "source": [
    "#EXPONENT EQUAL TO OPERATOR\n",
    "X=2\n",
    "Y=3\n",
    "X**=Y   #X=X**Y\n",
    "X"
   ]
  },
  {
   "cell_type": "code",
   "execution_count": 27,
   "id": "b5ce3a07",
   "metadata": {},
   "outputs": [
    {
     "data": {
      "text/plain": [
       "13"
      ]
     },
     "execution_count": 27,
     "metadata": {},
     "output_type": "execute_result"
    }
   ],
   "source": [
    "#FLOOR EQUAL TO OPERATOR\n",
    "X=764\n",
    "Y=56\n",
    "X//=Y   #X=X//Y\n",
    "X"
   ]
  },
  {
   "cell_type": "code",
   "execution_count": 28,
   "id": "7ac6bcbc",
   "metadata": {},
   "outputs": [
    {
     "data": {
      "text/plain": [
       "True"
      ]
     },
     "execution_count": 28,
     "metadata": {},
     "output_type": "execute_result"
    }
   ],
   "source": [
    "#COMPARISON OPERATOR\n",
    "#EQUAL TO OPERATOR\n",
    "2==2\n"
   ]
  },
  {
   "cell_type": "code",
   "execution_count": 29,
   "id": "8f840290",
   "metadata": {},
   "outputs": [
    {
     "data": {
      "text/plain": [
       "False"
      ]
     },
     "execution_count": 29,
     "metadata": {},
     "output_type": "execute_result"
    }
   ],
   "source": [
    "X=8\n",
    "Y=9\n",
    "X==Y"
   ]
  },
  {
   "cell_type": "code",
   "execution_count": 30,
   "id": "28cfe256",
   "metadata": {},
   "outputs": [
    {
     "data": {
      "text/plain": [
       "True"
      ]
     },
     "execution_count": 30,
     "metadata": {},
     "output_type": "execute_result"
    }
   ],
   "source": [
    "#NOT EQUAL TO OPERATOR\n",
    "x=9\n",
    "Y=10\n",
    "X!=Y"
   ]
  },
  {
   "cell_type": "code",
   "execution_count": 31,
   "id": "b02c0361",
   "metadata": {},
   "outputs": [
    {
     "data": {
      "text/plain": [
       "False"
      ]
     },
     "execution_count": 31,
     "metadata": {},
     "output_type": "execute_result"
    }
   ],
   "source": [
    "#Greater Than \n",
    "5>9"
   ]
  },
  {
   "cell_type": "code",
   "execution_count": 32,
   "id": "f95e1bfc",
   "metadata": {},
   "outputs": [
    {
     "data": {
      "text/plain": [
       "True"
      ]
     },
     "execution_count": 32,
     "metadata": {},
     "output_type": "execute_result"
    }
   ],
   "source": [
    "#Smaller Than \n",
    "5<9"
   ]
  },
  {
   "cell_type": "code",
   "execution_count": 33,
   "id": "e560c1d0",
   "metadata": {},
   "outputs": [
    {
     "data": {
      "text/plain": [
       "True"
      ]
     },
     "execution_count": 33,
     "metadata": {},
     "output_type": "execute_result"
    }
   ],
   "source": [
    "#Less than =\n",
    "5<=9"
   ]
  },
  {
   "cell_type": "code",
   "execution_count": 34,
   "id": "46f03214",
   "metadata": {},
   "outputs": [
    {
     "data": {
      "text/plain": [
       "False"
      ]
     },
     "execution_count": 34,
     "metadata": {},
     "output_type": "execute_result"
    }
   ],
   "source": [
    "#greater than equal to \n",
    "9<=5"
   ]
  },
  {
   "cell_type": "markdown",
   "id": "4ac652e2",
   "metadata": {},
   "source": [
    "# logical operator"
   ]
  },
  {
   "cell_type": "code",
   "execution_count": 35,
   "id": "da62b141",
   "metadata": {},
   "outputs": [
    {
     "data": {
      "text/plain": [
       "True"
      ]
     },
     "execution_count": 35,
     "metadata": {},
     "output_type": "execute_result"
    }
   ],
   "source": [
    "#And operator\n",
    "x=8\n",
    "x>1 and x>5"
   ]
  },
  {
   "cell_type": "code",
   "execution_count": 36,
   "id": "613b6d64",
   "metadata": {},
   "outputs": [
    {
     "data": {
      "text/plain": [
       "True"
      ]
     },
     "execution_count": 36,
     "metadata": {},
     "output_type": "execute_result"
    }
   ],
   "source": [
    "#OR operator\n",
    "x=8\n",
    "x>1 or x>50"
   ]
  },
  {
   "cell_type": "markdown",
   "id": "74130456",
   "metadata": {},
   "source": [
    "# BITWISE OPERATOR"
   ]
  },
  {
   "cell_type": "code",
   "execution_count": 37,
   "id": "568ca665",
   "metadata": {},
   "outputs": [
    {
     "data": {
      "text/plain": [
       "8"
      ]
     },
     "execution_count": 37,
     "metadata": {},
     "output_type": "execute_result"
    }
   ],
   "source": [
    "#bitwise and \n",
    "x=8\n",
    "y=9\n",
    "x & y"
   ]
  },
  {
   "cell_type": "code",
   "execution_count": 38,
   "id": "b09e21ee",
   "metadata": {},
   "outputs": [
    {
     "data": {
      "text/plain": [
       "9"
      ]
     },
     "execution_count": 38,
     "metadata": {},
     "output_type": "execute_result"
    }
   ],
   "source": [
    "#bitwise or\n",
    "x=8\n",
    "y=9\n",
    "x | y"
   ]
  },
  {
   "cell_type": "code",
   "execution_count": 39,
   "id": "96458b98",
   "metadata": {},
   "outputs": [
    {
     "data": {
      "text/plain": [
       "7"
      ]
     },
     "execution_count": 39,
     "metadata": {},
     "output_type": "execute_result"
    }
   ],
   "source": [
    "#XOR operation\n",
    "x=7\n",
    "y=0\n",
    "x ^ y"
   ]
  },
  {
   "cell_type": "code",
   "execution_count": 40,
   "id": "c46ada5c",
   "metadata": {},
   "outputs": [
    {
     "data": {
      "text/plain": [
       "-12"
      ]
     },
     "execution_count": 40,
     "metadata": {},
     "output_type": "execute_result"
    }
   ],
   "source": [
    "#NOT\n",
    "~11"
   ]
  },
  {
   "cell_type": "code",
   "execution_count": 41,
   "id": "80fb0f94",
   "metadata": {},
   "outputs": [
    {
     "data": {
      "text/plain": [
       "28"
      ]
     },
     "execution_count": 41,
     "metadata": {},
     "output_type": "execute_result"
    }
   ],
   "source": [
    "#BITWISE LEFT SHIFT\n",
    "7<<2"
   ]
  },
  {
   "cell_type": "code",
   "execution_count": 42,
   "id": "9161f6ff",
   "metadata": {},
   "outputs": [
    {
     "data": {
      "text/plain": [
       "2"
      ]
     },
     "execution_count": 42,
     "metadata": {},
     "output_type": "execute_result"
    }
   ],
   "source": [
    "#BITWISE RIGHT SHIFT\n",
    "8>>2"
   ]
  },
  {
   "cell_type": "markdown",
   "id": "bdf1a1a8",
   "metadata": {},
   "source": [
    "# is OPERATOR\n"
   ]
  },
  {
   "cell_type": "code",
   "execution_count": 43,
   "id": "530188a8",
   "metadata": {},
   "outputs": [
    {
     "data": {
      "text/plain": [
       "False"
      ]
     },
     "execution_count": 43,
     "metadata": {},
     "output_type": "execute_result"
    }
   ],
   "source": [
    "X= 10\n",
    "Y=20\n",
    "X is Y"
   ]
  },
  {
   "cell_type": "code",
   "execution_count": 44,
   "id": "d51f3b42",
   "metadata": {},
   "outputs": [
    {
     "data": {
      "text/plain": [
       "True"
      ]
     },
     "execution_count": 44,
     "metadata": {},
     "output_type": "execute_result"
    }
   ],
   "source": [
    "# is not OPERATOR\n",
    "X= 10\n",
    "Y=20\n",
    "X is not Y"
   ]
  },
  {
   "cell_type": "markdown",
   "id": "b6e8538f",
   "metadata": {},
   "source": [
    "# MEMBERSHIP OPERATOR\n",
    "\n",
    " #### Membership operators are the operators used to validate the membership of the value."
   ]
  },
  {
   "cell_type": "code",
   "execution_count": 45,
   "id": "de3fa6cd",
   "metadata": {},
   "outputs": [],
   "source": [
    "# in operator \n",
    "# in operator evaluates to true if it finds the variable in the specific sequence and false otherwise."
   ]
  },
  {
   "cell_type": "code",
   "execution_count": 46,
   "id": "d7ff2e45",
   "metadata": {},
   "outputs": [
    {
     "data": {
      "text/plain": [
       "True"
      ]
     },
     "execution_count": 46,
     "metadata": {},
     "output_type": "execute_result"
    }
   ],
   "source": [
    "t= (3,6,4,1)\n",
    "3 in t"
   ]
  },
  {
   "cell_type": "code",
   "execution_count": 47,
   "id": "3fe51590",
   "metadata": {},
   "outputs": [
    {
     "data": {
      "text/plain": [
       "True"
      ]
     },
     "execution_count": 47,
     "metadata": {},
     "output_type": "execute_result"
    }
   ],
   "source": [
    "# not in operator\n",
    "t= (3,6,4,1)\n",
    "5 not in t"
   ]
  },
  {
   "cell_type": "markdown",
   "id": "5f1c0881",
   "metadata": {},
   "source": [
    "# STRING"
   ]
  },
  {
   "cell_type": "code",
   "execution_count": 48,
   "id": "8351af2d",
   "metadata": {},
   "outputs": [],
   "source": [
    "# STring using single quotes\n",
    "s1 = 'This is string'\n",
    "\n",
    "#String using double quotes\n",
    "s2 = \" This is also a string\""
   ]
  },
  {
   "cell_type": "code",
   "execution_count": 49,
   "id": "3450e535",
   "metadata": {},
   "outputs": [],
   "source": [
    "#Multiline strings\n",
    "s = \"\"\"\" Python is a interesting  language \n",
    "but C++ is love\n",
    "Java - - - forget about it\"\"\""
   ]
  },
  {
   "cell_type": "code",
   "execution_count": 50,
   "id": "44c6cf53",
   "metadata": {},
   "outputs": [],
   "source": [
    "#declaring two variables\n",
    "first = \"Kapil\"\n",
    "last = \"yadav\""
   ]
  },
  {
   "cell_type": "code",
   "execution_count": 51,
   "id": "dcafcc30",
   "metadata": {},
   "outputs": [
    {
     "name": "stdout",
     "output_type": "stream",
     "text": [
      "Hello! I am Kapil yadav\n"
     ]
    }
   ],
   "source": [
    "#using format() function\n",
    "print('Hello! I am {} {}'.format(first,last))"
   ]
  },
  {
   "cell_type": "code",
   "execution_count": 52,
   "id": "ee904a9c",
   "metadata": {},
   "outputs": [
    {
     "name": "stdout",
     "output_type": "stream",
     "text": [
      "Hello! I am Kapil yadav\n"
     ]
    }
   ],
   "source": [
    "#using numbers inside brackets\n",
    "print('Hello! I am {0} {1}'.format(first,last))"
   ]
  },
  {
   "cell_type": "code",
   "execution_count": 53,
   "id": "e8db3c2d",
   "metadata": {},
   "outputs": [
    {
     "name": "stdout",
     "output_type": "stream",
     "text": [
      "Hello! I am Kapil yadav.yadav is my surname\n"
     ]
    }
   ],
   "source": [
    "print('Hello! I am {0} {1}.{1} is my surname'.format(first,last))"
   ]
  },
  {
   "cell_type": "code",
   "execution_count": 54,
   "id": "5b7e4f80",
   "metadata": {},
   "outputs": [],
   "source": [
    "#ninja tip\n",
    "# f strings\n",
    "name = 'Deepanker'\n",
    "age = 24\n"
   ]
  },
  {
   "cell_type": "code",
   "execution_count": 55,
   "id": "f1f98743",
   "metadata": {},
   "outputs": [
    {
     "name": "stdout",
     "output_type": "stream",
     "text": [
      "My name is karan. I am 20 years old\n"
     ]
    }
   ],
   "source": [
    "print(f'My name is {name}. I am {age} years old')"
   ]
  },
  {
   "cell_type": "markdown",
   "id": "a06918e1",
   "metadata": {},
   "source": [
    "# String methods\n",
    "\n",
    "1. capitalize() - returns string after converting the first character to uppercase."
   ]
  },
  {
   "cell_type": "code",
   "execution_count": 56,
   "id": "ff3ffbcf",
   "metadata": {},
   "outputs": [
    {
     "data": {
      "text/plain": [
       "'Bollywood'"
      ]
     },
     "execution_count": 56,
     "metadata": {},
     "output_type": "execute_result"
    }
   ],
   "source": [
    "#capitalize() method\n",
    "s='bollywood'\n",
    "s.capitalize()"
   ]
  },
  {
   "cell_type": "markdown",
   "id": "5e54f43d",
   "metadata": {},
   "source": [
    "## Lower function"
   ]
  },
  {
   "cell_type": "code",
   "execution_count": 57,
   "id": "3fc15159",
   "metadata": {},
   "outputs": [
    {
     "data": {
      "text/plain": [
       "' cinema'"
      ]
     },
     "execution_count": 57,
     "metadata": {},
     "output_type": "execute_result"
    }
   ],
   "source": [
    "#lower method\n",
    "s1 = \" CINEMA\"\n",
    "s1.lower()"
   ]
  },
  {
   "cell_type": "code",
   "execution_count": 58,
   "id": "6d236573",
   "metadata": {},
   "outputs": [
    {
     "data": {
      "text/plain": [
       "'MOVIE'"
      ]
     },
     "execution_count": 58,
     "metadata": {},
     "output_type": "execute_result"
    }
   ],
   "source": [
    "#upper function\n",
    "a = \"movie\"\n",
    "a.upper()"
   ]
  },
  {
   "cell_type": "code",
   "execution_count": 59,
   "id": "661999ef",
   "metadata": {},
   "outputs": [
    {
     "name": "stdout",
     "output_type": "stream",
     "text": [
      "Ram Shyam  Mohan\n"
     ]
    }
   ],
   "source": [
    "#join method\n",
    "s1= [\"Ram\", \"Shyam\", \" Mohan\"]\n",
    "x= \" \".join(s1)\n",
    "print(x)"
   ]
  },
  {
   "cell_type": "code",
   "execution_count": 60,
   "id": "13991d60",
   "metadata": {},
   "outputs": [
    {
     "data": {
      "text/plain": [
       "20"
      ]
     },
     "execution_count": 60,
     "metadata": {},
     "output_type": "execute_result"
    }
   ],
   "source": [
    "#len function\n",
    "s1 = \" Kapil is a good boy\"\n",
    "len(s1)"
   ]
  },
  {
   "cell_type": "code",
   "execution_count": 61,
   "id": "7c4b4fb5",
   "metadata": {},
   "outputs": [
    {
     "data": {
      "text/plain": [
       "2"
      ]
     },
     "execution_count": 61,
     "metadata": {},
     "output_type": "execute_result"
    }
   ],
   "source": [
    "#count function\n",
    "s1= ' kapil is  a king'\n",
    "s1.count('k')"
   ]
  },
  {
   "cell_type": "code",
   "execution_count": 62,
   "id": "2781d0b6",
   "metadata": {},
   "outputs": [
    {
     "data": {
      "text/plain": [
       "1"
      ]
     },
     "execution_count": 62,
     "metadata": {},
     "output_type": "execute_result"
    }
   ],
   "source": [
    "#find method\n",
    "s='Ronaldo'\n",
    "s.find('o')"
   ]
  },
  {
   "cell_type": "code",
   "execution_count": 63,
   "id": "8305e11f",
   "metadata": {},
   "outputs": [
    {
     "data": {
      "text/plain": [
       "True"
      ]
     },
     "execution_count": 63,
     "metadata": {},
     "output_type": "execute_result"
    }
   ],
   "source": [
    "# Is lower function - checks if all the characters in the strin are in lower case or not\n",
    "s= 'actors'\n",
    "s.islower()"
   ]
  },
  {
   "cell_type": "code",
   "execution_count": 64,
   "id": "0d3d9d82",
   "metadata": {},
   "outputs": [
    {
     "data": {
      "text/plain": [
       "True"
      ]
     },
     "execution_count": 64,
     "metadata": {},
     "output_type": "execute_result"
    }
   ],
   "source": [
    "#is upper function - checks if all the characters in the strin are in upper case or not\n",
    "s= \"KAPIL\"\n",
    "s.isupper()"
   ]
  },
  {
   "cell_type": "code",
   "execution_count": 65,
   "id": "a53af6ec",
   "metadata": {},
   "outputs": [
    {
     "data": {
      "text/plain": [
       "['Data', 'science']"
      ]
     },
     "execution_count": 65,
     "metadata": {},
     "output_type": "execute_result"
    }
   ],
   "source": [
    "#split function - which returns a list of the string after breaking the string by the separator.\n",
    "S= 'Data+science'\n",
    "S.split('+')"
   ]
  },
  {
   "cell_type": "code",
   "execution_count": 66,
   "id": "127df809",
   "metadata": {},
   "outputs": [
    {
     "data": {
      "text/plain": [
       "['Data', 'science']"
      ]
     },
     "execution_count": 66,
     "metadata": {},
     "output_type": "execute_result"
    }
   ],
   "source": [
    "S= 'Data science'\n",
    "S.split(' ')"
   ]
  },
  {
   "cell_type": "code",
   "execution_count": 67,
   "id": "ad06ec18",
   "metadata": {},
   "outputs": [
    {
     "data": {
      "text/plain": [
       "'Tom Cruise'"
      ]
     },
     "execution_count": 67,
     "metadata": {},
     "output_type": "execute_result"
    }
   ],
   "source": [
    " #strip function - which removes any extra spaces at the beginning and at the end of the string.\n",
    "    s= ' Tom Cruise   '\n",
    "    s.strip()"
   ]
  },
  {
   "cell_type": "markdown",
   "id": "6d859a0a",
   "metadata": {},
   "source": [
    "# INPUT METHOD\n",
    "## input() function takes user input and evaluates it."
   ]
  },
  {
   "cell_type": "code",
   "execution_count": null,
   "id": "8f5d148f",
   "metadata": {},
   "outputs": [],
   "source": [
    "x= input()"
   ]
  },
  {
   "cell_type": "code",
   "execution_count": null,
   "id": "8f411615",
   "metadata": {},
   "outputs": [],
   "source": [
    "#passing message\n",
    "input(\" What is your name: \")"
   ]
  },
  {
   "cell_type": "code",
   "execution_count": null,
   "id": "3d207b45",
   "metadata": {},
   "outputs": [],
   "source": [
    "x= int(input('Enter a number: '))"
   ]
  },
  {
   "cell_type": "code",
   "execution_count": null,
   "id": "b92913e8",
   "metadata": {},
   "outputs": [],
   "source": [
    "x= float(input('Enter a number: '))"
   ]
  },
  {
   "cell_type": "markdown",
   "id": "a962eda8",
   "metadata": {},
   "source": [
    "# if-elif-else"
   ]
  },
  {
   "cell_type": "markdown",
   "id": "34779f5f",
   "metadata": {},
   "source": [
    "# Syntax \n",
    "\n",
    "if(condition):\n",
    "    statement(s)\n"
   ]
  },
  {
   "cell_type": "code",
   "execution_count": null,
   "id": "98a74102",
   "metadata": {},
   "outputs": [],
   "source": [
    "#example of it statement\n",
    "x=3\n",
    "if(x>0):\n",
    "    print(' x is greater than 0')"
   ]
  },
  {
   "cell_type": "code",
   "execution_count": null,
   "id": "0602e8d4",
   "metadata": {},
   "outputs": [],
   "source": [
    "#example of if else statement\n",
    "x=5\n",
    "if(x%2==0):\n",
    "    print(\" Number  a multiple of 2\")\n",
    "else:\n",
    "    print(\" Not a multiple of 2\")"
   ]
  },
  {
   "cell_type": "code",
   "execution_count": null,
   "id": "ac259982",
   "metadata": {},
   "outputs": [],
   "source": [
    "#example of if elif else\n",
    "y=34\n",
    "if(y<10):\n",
    "    print(' y is less than 10')\n",
    "elif(y>10 and y<50):\n",
    "    print(' y is between 10 to 50')\n",
    "else: \n",
    "    print(\"y is greater than 50\")"
   ]
  },
  {
   "cell_type": "markdown",
   "id": "f4c9d48d",
   "metadata": {},
   "source": [
    "# for and while"
   ]
  },
  {
   "cell_type": "markdown",
   "id": "90b795fc",
   "metadata": {},
   "source": [
    "# for loop -\n",
    "\n",
    "## The for loop in python is used to iterate over a sequence (list, tuple, string and dictionary)\n",
    "\n",
    "### Syntax\n",
    "\n",
    "for i in sequence:\n",
    "   \n",
    "             Body of loop"
   ]
  },
  {
   "cell_type": "code",
   "execution_count": null,
   "id": "70032812",
   "metadata": {},
   "outputs": [],
   "source": [
    "a= ['Delhi', 'Mumbai', 'Chennai', 'Kolkata']\n",
    "for city in a:\n",
    "    print(city)"
   ]
  },
  {
   "cell_type": "code",
   "execution_count": null,
   "id": "a2bbee02",
   "metadata": {},
   "outputs": [],
   "source": [
    "#defining a list\n",
    "s= [2,4,6,8,20]\n",
    "for i in s:\n",
    "    if(i%2!=0):\n",
    "        print(i,\" is not divisible by 2 \")\n",
    "    else: \n",
    "        print(i,\" is divisible by 2 \")"
   ]
  },
  {
   "cell_type": "markdown",
   "id": "94bf8d33",
   "metadata": {},
   "source": [
    "# While loop\n",
    "## Syntax\n",
    "\n",
    "While test_condition:\n",
    "    Body of loop"
   ]
  },
  {
   "cell_type": "code",
   "execution_count": null,
   "id": "0e35dc1c",
   "metadata": {},
   "outputs": [],
   "source": [
    "#using while loop\n",
    "i=1\n",
    "while i<=5:\n",
    "    print(i)\n",
    "    i=i+1"
   ]
  },
  {
   "cell_type": "code",
   "execution_count": null,
   "id": "6aca95d7",
   "metadata": {},
   "outputs": [],
   "source": [
    "#using while loop\n",
    "i=1\n",
    "while i<=5:\n",
    "    print(i)\n",
    "    i=i+1\n",
    "else:\n",
    "    print(\"i is no lomnger less than 6\")"
   ]
  },
  {
   "cell_type": "code",
   "execution_count": null,
   "id": "bff18a9e",
   "metadata": {},
   "outputs": [],
   "source": []
  },
  {
   "cell_type": "code",
   "execution_count": null,
   "id": "690e7a06",
   "metadata": {},
   "outputs": [],
   "source": []
  }
 ],
 "metadata": {
  "kernelspec": {
   "display_name": "Python 3",
   "language": "python",
   "name": "python3"
  },
  "language_info": {
   "codemirror_mode": {
    "name": "ipython",
    "version": 3
   },
   "file_extension": ".py",
   "mimetype": "text/x-python",
   "name": "python",
   "nbconvert_exporter": "python",
   "pygments_lexer": "ipython3",
   "version": "3.6.8"
  }
 },
 "nbformat": 4,
 "nbformat_minor": 5
}
