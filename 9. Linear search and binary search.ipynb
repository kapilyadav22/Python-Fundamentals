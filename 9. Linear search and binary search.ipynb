{
 "cells": [
  {
   "cell_type": "markdown",
   "id": "bc73c3fa",
   "metadata": {},
   "source": [
    "## Linear Search"
   ]
  },
  {
   "cell_type": "code",
   "execution_count": 1,
   "id": "e1ca82d2",
   "metadata": {},
   "outputs": [
    {
     "name": "stdout",
     "output_type": "stream",
     "text": [
      "2\n",
      "3\n",
      "4\n",
      "5\n",
      "6\n",
      "7\n",
      "8\n"
     ]
    }
   ],
   "source": [
    "My_list=[2,3,4,5,6,7,8]\n",
    "for i in My_list:\n",
    "    print(i)"
   ]
  },
  {
   "cell_type": "code",
   "execution_count": 8,
   "id": "7c3c367e",
   "metadata": {},
   "outputs": [
    {
     "name": "stdout",
     "output_type": "stream",
     "text": [
      " Element not found\n",
      " Element not found\n",
      " Element not found\n",
      " Element not found\n",
      " Element not found\n",
      " Element not found\n",
      "6\n"
     ]
    }
   ],
   "source": [
    "My_list=[2,3,4,5,6,7,8]\n",
    "for i in range(len(My_list)):\n",
    "    if My_list[i]==8:\n",
    "        print(i)\n",
    "    else:\n",
    "        print(\" Element not found\")"
   ]
  },
  {
   "cell_type": "markdown",
   "id": "3aeccb88",
   "metadata": {},
   "source": [
    "# Binary Search"
   ]
  },
  {
   "cell_type": "code",
   "execution_count": null,
   "id": "02df8597",
   "metadata": {},
   "outputs": [],
   "source": []
  }
 ],
 "metadata": {
  "kernelspec": {
   "display_name": "Python 3",
   "language": "python",
   "name": "python3"
  },
  "language_info": {
   "codemirror_mode": {
    "name": "ipython",
    "version": 3
   },
   "file_extension": ".py",
   "mimetype": "text/x-python",
   "name": "python",
   "nbconvert_exporter": "python",
   "pygments_lexer": "ipython3",
   "version": "3.6.8"
  }
 },
 "nbformat": 4,
 "nbformat_minor": 5
}
