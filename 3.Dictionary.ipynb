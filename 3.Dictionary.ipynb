{
 "cells": [
  {
   "cell_type": "markdown",
   "id": "1c817196",
   "metadata": {},
   "source": [
    "# Dictionary \n",
    "## Dictionary is an unordered collection of data values used to store data values like a map. i.e dictionary holds the key:value pair \n",
    "\n",
    "    1. The values in the dictionary can be of any data type and can repeat.\n",
    "    2. The keys in the dictionary must be of immutable type(string, number or tuple with immutable elements) and must be unique.\n",
    "    \n",
    "        Dictionaries are written with curly {} and they have keys and values"
   ]
  },
  {
   "cell_type": "code",
   "execution_count": 6,
   "id": "ce3d745a",
   "metadata": {},
   "outputs": [
    {
     "data": {
      "text/plain": [
       "{'brand': 'Ford', 'Model': 'Mustang', 'year': 1964}"
      ]
     },
     "execution_count": 6,
     "metadata": {},
     "output_type": "execute_result"
    }
   ],
   "source": [
    " #creating a dictionary\n",
    "d={'brand': 'Ford','Model':'Mustang', 'year': 1964}\n",
    "d"
   ]
  },
  {
   "cell_type": "code",
   "execution_count": 8,
   "id": "c9040e41",
   "metadata": {},
   "outputs": [
    {
     "data": {
      "text/plain": [
       "{'brand': 'ford', 'model': ' mustang', 'year': 1964}"
      ]
     },
     "execution_count": 8,
     "metadata": {},
     "output_type": "execute_result"
    }
   ],
   "source": [
    " #creating dictionary using dict() method\n",
    "    thisdict = dict(brand='ford', model= ' mustang',year=1964)\n",
    "    thisdict"
   ]
  },
  {
   "cell_type": "markdown",
   "id": "d0549252",
   "metadata": {},
   "source": [
    "Note:-\n",
    "\n",
    "1. Keys are not string literals . i.e., we write keys without quotes.\n",
    "2. Using equals rather than colon for assginment."
   ]
  },
  {
   "cell_type": "code",
   "execution_count": 9,
   "id": "9434b9b8",
   "metadata": {},
   "outputs": [
    {
     "data": {
      "text/plain": [
       "'Ford'"
      ]
     },
     "execution_count": 9,
     "metadata": {},
     "output_type": "execute_result"
    }
   ],
   "source": [
    "#accessing items of a dictionary using get() method\n",
    "d.get(\"brand\")"
   ]
  },
  {
   "cell_type": "code",
   "execution_count": 10,
   "id": "7c3784b4",
   "metadata": {},
   "outputs": [
    {
     "data": {
      "text/plain": [
       "'Ford'"
      ]
     },
     "execution_count": 10,
     "metadata": {},
     "output_type": "execute_result"
    }
   ],
   "source": [
    "#ninja\n",
    "d['brand']"
   ]
  },
  {
   "cell_type": "markdown",
   "id": "00ad6ed6",
   "metadata": {},
   "source": [
    "## Dictionaries are mutable. We can add new items or even change the value of existing items using an assignment operator."
   ]
  },
  {
   "cell_type": "code",
   "execution_count": 12,
   "id": "856f2ad0",
   "metadata": {},
   "outputs": [
    {
     "data": {
      "text/plain": [
       "{'brand': 'Maruti', 'Model': 'Mustang', 'year': 1964, 'brand]': 'Maruti'}"
      ]
     },
     "execution_count": 12,
     "metadata": {},
     "output_type": "execute_result"
    }
   ],
   "source": [
    "#changing an item\n",
    "d['brand']='Maruti'\n",
    "d"
   ]
  },
  {
   "cell_type": "code",
   "execution_count": 13,
   "id": "e8f2320e",
   "metadata": {},
   "outputs": [
    {
     "data": {
      "text/plain": [
       "{'brand': 'Maruti',\n",
       " 'Model': 'Mustang',\n",
       " 'year': 1964,\n",
       " 'brand]': 'Maruti',\n",
       " 'color': 'RED'}"
      ]
     },
     "execution_count": 13,
     "metadata": {},
     "output_type": "execute_result"
    }
   ],
   "source": [
    " #adding a new item\n",
    "d['color']='RED'\n",
    "d"
   ]
  },
  {
   "cell_type": "code",
   "execution_count": null,
   "id": "21171a1f",
   "metadata": {},
   "outputs": [],
   "source": []
  }
 ],
 "metadata": {
  "kernelspec": {
   "display_name": "Python 3",
   "language": "python",
   "name": "python3"
  },
  "language_info": {
   "codemirror_mode": {
    "name": "ipython",
    "version": 3
   },
   "file_extension": ".py",
   "mimetype": "text/x-python",
   "name": "python",
   "nbconvert_exporter": "python",
   "pygments_lexer": "ipython3",
   "version": "3.6.8"
  }
 },
 "nbformat": 4,
 "nbformat_minor": 5
}
