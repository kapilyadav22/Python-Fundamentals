{
 "cells": [
  {
   "cell_type": "markdown",
   "id": "16fc8cca",
   "metadata": {},
   "source": [
    "# Module\n",
    "A module is a file that contains python code.\n",
    "A mdoule can define functions, classes and variables."
   ]
  },
  {
   "cell_type": "code",
   "execution_count": 30,
   "id": "051072ec",
   "metadata": {},
   "outputs": [],
   "source": [
    "#importing modules\n",
    "#access the function using dot operator\n",
    "import calculation"
   ]
  },
  {
   "cell_type": "code",
   "execution_count": 31,
   "id": "b1781b5a",
   "metadata": {},
   "outputs": [
    {
     "data": {
      "text/plain": [
       "30"
      ]
     },
     "execution_count": 31,
     "metadata": {},
     "output_type": "execute_result"
    }
   ],
   "source": [
    "#accesing the function\n",
    "calculation.multiplication(6,5)"
   ]
  },
  {
   "cell_type": "code",
   "execution_count": 32,
   "id": "501a221a",
   "metadata": {},
   "outputs": [
    {
     "data": {
      "text/plain": [
       "1"
      ]
     },
     "execution_count": 32,
     "metadata": {},
     "output_type": "execute_result"
    }
   ],
   "source": [
    "calculation.subtraction(6,5)"
   ]
  },
  {
   "cell_type": "markdown",
   "id": "6969dcbd",
   "metadata": {},
   "source": [
    "# Anonymous function\n",
    "\n",
    "Anonymous function is a function which is defined without a name.\n",
    "\n",
    "Anonymous functions can accept multiple inputs and return one single output.\n",
    "\n",
    "They can contain only one single executable statement.\n",
    "\n",
    "### most popular ones, which are lambda functions filter, map, zip list, set and dictionary comprehensions."
   ]
  },
  {
   "cell_type": "markdown",
   "id": "ac086ace",
   "metadata": {},
   "source": [
    "# Lambda function is a small, anonymous function.\n",
    "\n",
    "It can take any number of arguments, but it can only have one expression.\n",
    "\n",
    "Lambda functions are much recommended to use whenever we have smaller functions to execute.\n",
    "\n",
    "Lambda functions are widely used for data manipulation and feature engineering,\n",
    "where we have to make smaller changes in larger datasets.\n",
    "\n",
    "The syntax for lambda function is:\n",
    "  ## lambda arguments: expression"
   ]
  },
  {
   "cell_type": "code",
   "execution_count": 34,
   "id": "5f9bb989",
   "metadata": {},
   "outputs": [
    {
     "data": {
      "text/plain": [
       "25"
      ]
     },
     "execution_count": 34,
     "metadata": {},
     "output_type": "execute_result"
    }
   ],
   "source": [
    " #lambda function with single arguement\n",
    "    x= lambda a: a*a\n",
    "    x(5)"
   ]
  },
  {
   "cell_type": "code",
   "execution_count": 35,
   "id": "0eabf74d",
   "metadata": {},
   "outputs": [
    {
     "data": {
      "text/plain": [
       "12"
      ]
     },
     "execution_count": 35,
     "metadata": {},
     "output_type": "execute_result"
    }
   ],
   "source": [
    " #lambda function with more than one  arguement\n",
    "    y= lambda a,b: a+b\n",
    "    y(7,5) "
   ]
  },
  {
   "cell_type": "markdown",
   "id": "49c02c04",
   "metadata": {},
   "source": [
    "# Filter, Map and Zip function"
   ]
  },
  {
   "cell_type": "markdown",
   "id": "42d37037",
   "metadata": {},
   "source": [
    "### Filter function -the filter function filters, the given iterable lists, tuples, etc., with the help of a function that tests each element in the iterable to be true or not.\n",
    "\n",
    "The syntax of the filter function is \n",
    "#### filter(function,iterable)"
   ]
  },
  {
   "cell_type": "code",
   "execution_count": 36,
   "id": "9c6dc6fd",
   "metadata": {},
   "outputs": [],
   "source": [
    "#defining a list of marks of students out of 100\n",
    "score = [76,38,85,94,38]"
   ]
  },
  {
   "cell_type": "code",
   "execution_count": 38,
   "id": "6e9d0085",
   "metadata": {},
   "outputs": [],
   "source": [
    "#defining a function which checks if the marks scored are > 50\n",
    "\n",
    "def score_check(s):\n",
    "    if s>50: \n",
    "        return True\n",
    "    else:\n",
    "        return False"
   ]
  },
  {
   "cell_type": "code",
   "execution_count": 39,
   "id": "8344e3c4",
   "metadata": {},
   "outputs": [
    {
     "name": "stdout",
     "output_type": "stream",
     "text": [
      "76\n",
      "85\n",
      "94\n"
     ]
    }
   ],
   "source": [
    "#filtering the students with marks>50\n",
    "students_passed = filter(score_check,score)\n",
    "for i in students_passed:\n",
    "    print(i)"
   ]
  },
  {
   "cell_type": "markdown",
   "id": "69be035d",
   "metadata": {},
   "source": [
    " # Map Function\n",
    " ## the map function, executes a specified function for each item in a iterable.\n",
    " The item is sent to the function as a parameter.\n",
    " \n",
    " ## The syntax of map function is:-\n",
    "  map(function,iterable)"
   ]
  },
  {
   "cell_type": "code",
   "execution_count": 40,
   "id": "857f1463",
   "metadata": {},
   "outputs": [],
   "source": [
    "#defining a list which stores the total marks out of 500\n",
    "total_score = [365,450, 290, 398, 270,500]\n",
    "\n",
    "#defining a function which calculates the total percentage \n",
    "def percent(li):\n",
    "    ans=(li*100)/500\n",
    "    return ans"
   ]
  },
  {
   "cell_type": "code",
   "execution_count": 41,
   "id": "f636cba1",
   "metadata": {},
   "outputs": [
    {
     "name": "stdout",
     "output_type": "stream",
     "text": [
      "[73.0, 90.0, 58.0, 79.6, 54.0, 100.0]\n"
     ]
    }
   ],
   "source": [
    "#using map function\n",
    "mapped_list= map(percent,total_score)\n",
    "print(list(mapped_list))"
   ]
  },
  {
   "cell_type": "markdown",
   "id": "80da40eb",
   "metadata": {},
   "source": [
    "##  zip function - \n",
    "\n",
    "### The zip function returns a zip object, which is an iteration of tuples where the first item in each passed iterator is paired together and then the second item in each iterator is back together and so on.\n"
   ]
  },
  {
   "cell_type": "code",
   "execution_count": 42,
   "id": "2aac744e",
   "metadata": {},
   "outputs": [
    {
     "data": {
      "text/plain": [
       "[('kapil', 60), ('rohan', 70), (' raju', 80), ('vineet', 90), (' Suman', 100)]"
      ]
     },
     "execution_count": 42,
     "metadata": {},
     "output_type": "execute_result"
    }
   ],
   "source": [
    "#list containing names of the students\n",
    "student_names = [\"kapil\", \"rohan\", \" raju\", \"vineet\", \" Suman\"]\n",
    "\n",
    "#list containing marks of the students \n",
    "student_marks = [60,70,80,90,100]\n",
    "\n",
    "#zipping names and marks of students\n",
    "zipped_list = zip(student_names, student_marks)\n",
    "zipped_list= list(zipped_list)\n",
    "zipped_list\n",
    "\n",
    "\n",
    "#We want to aggeregate the corresponding names and marks of every students into a single tuple and return the list."
   ]
  },
  {
   "cell_type": "code",
   "execution_count": 45,
   "id": "3edfa5e4",
   "metadata": {},
   "outputs": [
    {
     "name": "stdout",
     "output_type": "stream",
     "text": [
      "names =  ['kapil', 'rohan', ' raju', 'vineet', ' Suman']\n",
      "marks =  [60, 70, 80, 90, 100]\n"
     ]
    }
   ],
   "source": [
    "#if we want to keep the list of names and marks differently\n",
    "#Use the star(*) operator inside zip() function to unzip the values.\n",
    "\n",
    "#unzipping the names and marks of the students\n",
    "student_names, student_marks = zip(*zipped_list)\n",
    "print('names = ', list(student_names))\n",
    "print('marks = ', list(student_marks))"
   ]
  },
  {
   "cell_type": "markdown",
   "id": "f7a9e108",
   "metadata": {},
   "source": [
    "# Comprehensions in Python\n",
    "### comprehensions in Python provide us with a short and concise way to construct new sequences such as lists, sets, dictionary, using sequences which have already been defined.\n",
    "1. List comprehension\n",
    "2. Set comprehension\n",
    "3. Dictionary Comprehension"
   ]
  },
  {
   "cell_type": "code",
   "execution_count": 48,
   "id": "a544ca4e",
   "metadata": {},
   "outputs": [
    {
     "data": {
      "text/plain": [
       "[4, 9, 16, 25, 36, 49]"
      ]
     },
     "execution_count": 48,
     "metadata": {},
     "output_type": "execute_result"
    }
   ],
   "source": [
    " #defining a list\n",
    "my_list = [2,3,4,5,6,7]\n",
    "#using list comprehension\n",
    "squared_list= [val**2 for val in my_list]\n",
    "squared_list"
   ]
  },
  {
   "cell_type": "code",
   "execution_count": 49,
   "id": "69b18a12",
   "metadata": {},
   "outputs": [
    {
     "data": {
      "text/plain": [
       "[2, 4, 6]"
      ]
     },
     "execution_count": 49,
     "metadata": {},
     "output_type": "execute_result"
    }
   ],
   "source": [
    "#using list comprehension\n",
    "even_list = [var for var in my_list if var%2==0]\n",
    "even_list"
   ]
  },
  {
   "cell_type": "markdown",
   "id": "607b0503",
   "metadata": {},
   "source": [
    "  # Set comprehension"
   ]
  },
  {
   "cell_type": "code",
   "execution_count": 50,
   "id": "acaf99aa",
   "metadata": {},
   "outputs": [
    {
     "data": {
      "text/plain": [
       "{1, 2, 3, 4, 5, 6, 7, 8, 9}"
      ]
     },
     "execution_count": 50,
     "metadata": {},
     "output_type": "execute_result"
    }
   ],
   "source": [
    "#using set comprehension\n",
    "numbers= { x for x in range(1,10)}\n",
    "numbers"
   ]
  },
  {
   "cell_type": "markdown",
   "id": "eba84206",
   "metadata": {},
   "source": [
    "# Dictionary Comprehension"
   ]
  },
  {
   "cell_type": "code",
   "execution_count": 52,
   "id": "82c1bc10",
   "metadata": {},
   "outputs": [
    {
     "data": {
      "text/plain": [
       "{1: 1, 2: 4, 3: 9, 4: 16, 5: 25, 6: 36, 7: 49, 8: 64, 9: 81}"
      ]
     },
     "execution_count": 52,
     "metadata": {},
     "output_type": "execute_result"
    }
   ],
   "source": [
    "#using dictionary comprehension\n",
    "d = {num:num*num for num in range(1,10)}\n",
    "d"
   ]
  },
  {
   "cell_type": "markdown",
   "id": "29feed39",
   "metadata": {},
   "source": [
    "# Introduction to Aggregate functions\n",
    "\n",
    "## Aggregation function is a function where the multiple values are grouped together to form a single summary value.\n",
    "\n",
    "Common aggregate functions are : \n",
    "\n",
    "1. max()\n",
    "2. min()\n",
    "3. sum()\n",
    "4.mean()\n",
    "5.median()\n",
    "6. mode()"
   ]
  },
  {
   "cell_type": "code",
   "execution_count": 53,
   "id": "689c6273",
   "metadata": {},
   "outputs": [],
   "source": [
    "#creating a list\n",
    "list1 = [3,5,7,9,2,1,1]"
   ]
  },
  {
   "cell_type": "code",
   "execution_count": 54,
   "id": "bd4beb05",
   "metadata": {},
   "outputs": [
    {
     "data": {
      "text/plain": [
       "9"
      ]
     },
     "execution_count": 54,
     "metadata": {},
     "output_type": "execute_result"
    }
   ],
   "source": [
    "#Finding the maximum value of list\n",
    "max(list1)"
   ]
  },
  {
   "cell_type": "code",
   "execution_count": 55,
   "id": "a6fc4ed3",
   "metadata": {},
   "outputs": [
    {
     "data": {
      "text/plain": [
       "1"
      ]
     },
     "execution_count": 55,
     "metadata": {},
     "output_type": "execute_result"
    }
   ],
   "source": [
    "#finding minimum value of list\n",
    "min(list1)"
   ]
  },
  {
   "cell_type": "code",
   "execution_count": 56,
   "id": "7edaccd0",
   "metadata": {},
   "outputs": [
    {
     "data": {
      "text/plain": [
       "28"
      ]
     },
     "execution_count": 56,
     "metadata": {},
     "output_type": "execute_result"
    }
   ],
   "source": [
    "#sum of the all values in the list\n",
    "sum(list1)"
   ]
  },
  {
   "cell_type": "code",
   "execution_count": 61,
   "id": "dc03b3cb",
   "metadata": {},
   "outputs": [
    {
     "data": {
      "text/plain": [
       "1"
      ]
     },
     "execution_count": 61,
     "metadata": {},
     "output_type": "execute_result"
    }
   ],
   "source": [
    "#for median and mode import statistics \n",
    "import statistics as s\n",
    "s.mode(list1)"
   ]
  },
  {
   "cell_type": "code",
   "execution_count": 58,
   "id": "6b26640f",
   "metadata": {},
   "outputs": [
    {
     "data": {
      "text/plain": [
       "3"
      ]
     },
     "execution_count": 58,
     "metadata": {},
     "output_type": "execute_result"
    }
   ],
   "source": [
    "s.median(list1)"
   ]
  },
  {
   "cell_type": "code",
   "execution_count": 59,
   "id": "6bcb6229",
   "metadata": {},
   "outputs": [
    {
     "data": {
      "text/plain": [
       "4"
      ]
     },
     "execution_count": 59,
     "metadata": {},
     "output_type": "execute_result"
    }
   ],
   "source": [
    "s.mean(list1)"
   ]
  },
  {
   "cell_type": "code",
   "execution_count": 62,
   "id": "f5f1dfdd",
   "metadata": {},
   "outputs": [],
   "source": [
    "# similarly we can these aggregate functions with tuples, list, dictionary"
   ]
  },
  {
   "cell_type": "markdown",
   "id": "ca1dbaa6",
   "metadata": {},
   "source": [
    "# Introduction of analytical functions.\n",
    "\n",
    "We are going to learn about four amazing analytical functions in Python.\n",
    "1. eval()\n",
    "2. len()\n",
    "3. factorial()\n",
    "4. sort()"
   ]
  },
  {
   "cell_type": "markdown",
   "id": "a0215339",
   "metadata": {},
   "source": [
    "# eval function  - \n",
    "### The eval function evaluates the string like a python expression and returns the result as an integer."
   ]
  },
  {
   "cell_type": "code",
   "execution_count": 63,
   "id": "39cae0c9",
   "metadata": {},
   "outputs": [
    {
     "data": {
      "text/plain": [
       "13"
      ]
     },
     "execution_count": 63,
     "metadata": {},
     "output_type": "execute_result"
    }
   ],
   "source": [
    "x=3\n",
    "eval('x**2+2*x-2')"
   ]
  },
  {
   "cell_type": "markdown",
   "id": "fee96297",
   "metadata": {},
   "source": [
    "# len function\n",
    "### len() function returns the number of items in an object"
   ]
  },
  {
   "cell_type": "code",
   "execution_count": 65,
   "id": "a7e3ac14",
   "metadata": {},
   "outputs": [
    {
     "data": {
      "text/plain": [
       "7"
      ]
     },
     "execution_count": 65,
     "metadata": {},
     "output_type": "execute_result"
    }
   ],
   "source": [
    "numbers=[4,2,5,6,7,8,9]\n",
    "len(numbers)"
   ]
  },
  {
   "cell_type": "markdown",
   "id": "f79dd227",
   "metadata": {},
   "source": [
    "# Factorial function\n",
    "\n",
    "### The factorial function in the math module helps us to compute the factorial of a number without writing the whole code."
   ]
  },
  {
   "cell_type": "code",
   "execution_count": 66,
   "id": "bfae178c",
   "metadata": {},
   "outputs": [
    {
     "data": {
      "text/plain": [
       "120"
      ]
     },
     "execution_count": 66,
     "metadata": {},
     "output_type": "execute_result"
    }
   ],
   "source": [
    "import math\n",
    "math.factorial(5)"
   ]
  },
  {
   "cell_type": "code",
   "execution_count": 67,
   "id": "91fe1472",
   "metadata": {},
   "outputs": [
    {
     "data": {
      "text/plain": [
       "3628800"
      ]
     },
     "execution_count": 67,
     "metadata": {},
     "output_type": "execute_result"
    }
   ],
   "source": [
    "math.factorial(10)"
   ]
  },
  {
   "cell_type": "markdown",
   "id": "4de422b1",
   "metadata": {},
   "source": [
    "# sort() function\n",
    "## sort() function sorts the elements of an object in a specified ascending or descending order."
   ]
  },
  {
   "cell_type": "code",
   "execution_count": 69,
   "id": "36f352f2",
   "metadata": {},
   "outputs": [
    {
     "data": {
      "text/plain": [
       "[51, 50, 50, 42, 40, 23, 11, 10]"
      ]
     },
     "execution_count": 69,
     "metadata": {},
     "output_type": "execute_result"
    }
   ],
   "source": [
    "runs= [50,10,11,23,51,42,40,50]\n",
    "runs.sort(reverse=True)\n",
    "runs"
   ]
  },
  {
   "cell_type": "code",
   "execution_count": 70,
   "id": "f42c147d",
   "metadata": {},
   "outputs": [
    {
     "data": {
      "text/plain": [
       "[10, 11, 23, 40, 42, 50, 50, 51]"
      ]
     },
     "execution_count": 70,
     "metadata": {},
     "output_type": "execute_result"
    }
   ],
   "source": [
    "runs.sort()\n",
    "runs"
   ]
  },
  {
   "cell_type": "code",
   "execution_count": 71,
   "id": "5699a587",
   "metadata": {},
   "outputs": [],
   "source": [
    "# SoLVING THE FACTORIAL PROBLEM USING RECURSION"
   ]
  },
  {
   "cell_type": "code",
   "execution_count": 72,
   "id": "0af8388b",
   "metadata": {},
   "outputs": [],
   "source": [
    "def fact(n):\n",
    "    if n==1:\n",
    "        return 1\n",
    "    else: \n",
    "        return n*fact(n-1)"
   ]
  },
  {
   "cell_type": "code",
   "execution_count": 73,
   "id": "333f41f2",
   "metadata": {},
   "outputs": [
    {
     "data": {
      "text/plain": [
       "3628800"
      ]
     },
     "execution_count": 73,
     "metadata": {},
     "output_type": "execute_result"
    }
   ],
   "source": [
    "fact(10)"
   ]
  },
  {
   "cell_type": "code",
   "execution_count": null,
   "id": "a76f426b",
   "metadata": {},
   "outputs": [],
   "source": []
  }
 ],
 "metadata": {
  "kernelspec": {
   "display_name": "Python 3",
   "language": "python",
   "name": "python3"
  },
  "language_info": {
   "codemirror_mode": {
    "name": "ipython",
    "version": 3
   },
   "file_extension": ".py",
   "mimetype": "text/x-python",
   "name": "python",
   "nbconvert_exporter": "python",
   "pygments_lexer": "ipython3",
   "version": "3.6.8"
  }
 },
 "nbformat": 4,
 "nbformat_minor": 5
}
